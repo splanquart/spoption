{
 "cells": [
  {
   "cell_type": "code",
   "execution_count": 1,
   "metadata": {},
   "outputs": [],
   "source": [
    "from IPython.display import display, Markdown, Latex\n",
    "\n",
    "from product import Option\n",
    "from strategy import *\n",
    "from euronext import Page, Ticker\n",
    "from graph import Graph\n",
    "\n",
    "g=Graph(4800, 5200, 25, [4880, 5075])\n",
    "p = Page(ticker=Ticker.CAC5PX, params='Class_type=0&Class_symbol=&Class_exchange=&ex=&ps=999&md=11-2018')\n",
    "p.fetch()\n",
    "(call, put) = p.scrap_options(multiplier=10)\n"
   ]
  },
  {
   "cell_type": "code",
   "execution_count": 12,
   "metadata": {},
   "outputs": [
    {
     "data": {
      "image/png": "[encoded data removed]",
      "text/plain": [
       "<Figure size 432x288 with 1 Axes>"
      ]
     },
     "metadata": {},
     "output_type": "display_data"
    },
    {
     "name": "stdout",
     "output_type": "stream",
     "text": [
      "Cost-Butterfly : 152.00€\n"
     ]
    },
    {
     "data": {
      "text/html": [
       "<table>\n",
       "<thead>\n",
       "<tr><th>Category  </th><th style=\"text-align: right;\">  strike</th><th>direction  </th><th style=\"text-align: right;\">  Quantity</th><th style=\"text-align: right;\">  Cost</th><th style=\"text-align: right;\">  Premium</th></tr>\n",
       "</thead>\n",
       "<tbody>\n",
       "<tr><td>Call      </td><td style=\"text-align: right;\">    4950</td><td>long       </td><td style=\"text-align: right;\">         1</td><td style=\"text-align: right;\">   539</td><td style=\"text-align: right;\">     53.9</td></tr>\n",
       "<tr><td>Call      </td><td style=\"text-align: right;\">    5000</td><td>short      </td><td style=\"text-align: right;\">         2</td><td style=\"text-align: right;\">  -408</td><td style=\"text-align: right;\">    -20.4</td></tr>\n",
       "<tr><td>Call      </td><td style=\"text-align: right;\">    5100</td><td>long       </td><td style=\"text-align: right;\">         1</td><td style=\"text-align: right;\">    21</td><td style=\"text-align: right;\">      2.1</td></tr>\n",
       "</tbody>\n",
       "</table>"
      ],
      "text/plain": [
       "<IPython.core.display.HTML object>"
      ]
     },
     "metadata": {},
     "output_type": "display_data"
    }
   ],
   "source": [
    "butterfly = Butterfly(call[4950], call[5000], call[5100])\n",
    "g.profit_strategy(butterfly)\n",
    "print('Cost-Butterfly : {:0.02f}€'.format(butterfly.cost()))\n",
    "g.display_summary(butterfly)"
   ]
  },
  {
   "cell_type": "code",
   "execution_count": null,
   "metadata": {},
   "outputs": [],
   "source": [
    "g.profit_rainbow(call.values(), 'short', title='Call Rainbow')"
   ]
  },
  {
   "cell_type": "code",
   "execution_count": null,
   "metadata": {},
   "outputs": [],
   "source": [
    "bfs = Butterfly.explorator(put.values(), step=100)\n",
    "g.profit_rainbow(bfs, 'long', title='Butterfly Rainbow')"
   ]
  },
  {
   "cell_type": "code",
   "execution_count": null,
   "metadata": {},
   "outputs": [],
   "source": [
    "bfs = Butterfly.explorator(call.values(), step=100)\n",
    "g.profit_rainbow(bfs, 'long', title='Butterfly Rainbow')"
   ]
  },
  {
   "cell_type": "code",
   "execution_count": null,
   "metadata": {},
   "outputs": [],
   "source": []
  }
 ],
 "metadata": {
  "kernelspec": {
   "display_name": "Python 3",
   "language": "python",
   "name": "python3"
  },
  "language_info": {
   "codemirror_mode": {
    "name": "ipython",
    "version": 3
   },
   "file_extension": ".py",
   "mimetype": "text/x-python",
   "name": "python",
   "nbconvert_exporter": "python",
   "pygments_lexer": "ipython3",
   "version": "3.6.4"
  }
 },
 "nbformat": 4,
 "nbformat_minor": 2
}
