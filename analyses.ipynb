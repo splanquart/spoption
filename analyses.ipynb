{
 "cells": [
  {
   "cell_type": "code",
   "execution_count": 1,
   "metadata": {
    "slideshow": {
     "slide_type": "-"
    }
   },
   "outputs": [],
   "source": [
    "from IPython.display import display, Markdown, Latex\n",
    "\n",
    "from product import Option\n",
    "from strategy import *\n",
    "from euronext import Page\n",
    "from graph import Graph\n",
    "\n",
    "g=Graph(4800, 5500, 25)"
   ]
  },
  {
   "cell_type": "code",
   "execution_count": 2,
   "metadata": {},
   "outputs": [],
   "source": [
    "p = Page(ticker_idx=1)\n",
    "p.fetch()\n",
    "options = p.scrap_options()\n",
    "call = p.call\n",
    "put = p.put\n",
    "for k, o in p.call.items():\n",
    "    o.multiplier=10\n",
    "for k, o in p.put.items():\n",
    "    o.multiplier=10\n"
   ]
  },
  {
   "cell_type": "code",
   "execution_count": null,
   "metadata": {},
   "outputs": [],
   "source": [
    "g.display_page_raw(p)"
   ]
  },
  {
   "cell_type": "code",
   "execution_count": null,
   "metadata": {},
   "outputs": [],
   "source": [
    "# test data when interet is fall\n",
    "import numpy as np\n",
    "sT = np.arange(4800,5400,25)\n",
    "o = Option(strike=4900, achat=212.40, vente=219.40, multiplier=10)\n",
    "c = Option(cat='Call', strike=4900, achat=212.40, vente=219.40, multiplier=10)\n",
    "p = Option(cat='Put', strike=4900, achat=9.10, vente=11.60, multiplier=10)\n",
    "print(str(o));print(str(c));print(str(p))"
   ]
  },
  {
   "cell_type": "code",
   "execution_count": null,
   "metadata": {},
   "outputs": [],
   "source": [
    "s2 = Strategy('Strategy : call+2*put long').add(call[4900], 'long', 1).add(call[5300], 'short', 2)\n",
    "g.profit(call[4950], 'long')\n",
    "g.profit_strategy(s2)\n",
    "g.compare(call[5000], 'long', s2, 'long')"
   ]
  },
  {
   "cell_type": "code",
   "execution_count": null,
   "metadata": {},
   "outputs": [],
   "source": [
    "def Butterfly(call_low, call_middle, call_high, label=None):\n",
    "    label = 'Butterfly {}-2*{}+{}'.format(call_low.strike,\n",
    "                                          call_middle.strike,\n",
    "                                          call_high.strike)\n",
    "    butterfly = (Strategy(label)\n",
    "                 .add(call_low, 'long', 1)\n",
    "                 .add(call_middle, 'short', 2)\n",
    "                 .add(call_high, 'long', 1))\n",
    "    return butterfly"
   ]
  },
  {
   "cell_type": "code",
   "execution_count": 6,
   "metadata": {},
   "outputs": [
    {
     "data": {
      "image/png": "[encoded data removed]",
      "text/plain": [
       "<Figure size 432x288 with 1 Axes>"
      ]
     },
     "metadata": {},
     "output_type": "display_data"
    },
    {
     "name": "stdout",
     "output_type": "stream",
     "text": [
      "Cost-Butterfly : 276.00€\n"
     ]
    },
    {
     "data": {
      "text/html": [
       "<table>\n",
       "<thead>\n",
       "<tr><th>Category  </th><th style=\"text-align: right;\">  strike</th><th>direction  </th><th style=\"text-align: right;\">  Quantity</th><th style=\"text-align: right;\">  Cost</th></tr>\n",
       "</thead>\n",
       "<tbody>\n",
       "<tr><td>Call      </td><td style=\"text-align: right;\">    5000</td><td>long       </td><td style=\"text-align: right;\">         1</td><td style=\"text-align: right;\">   647</td></tr>\n",
       "<tr><td>Call      </td><td style=\"text-align: right;\">    5075</td><td>short      </td><td style=\"text-align: right;\">         2</td><td style=\"text-align: right;\">  -446</td></tr>\n",
       "<tr><td>Call      </td><td style=\"text-align: right;\">    5150</td><td>long       </td><td style=\"text-align: right;\">         1</td><td style=\"text-align: right;\">    75</td></tr>\n",
       "</tbody>\n",
       "</table>"
      ],
      "text/plain": [
       "<IPython.core.display.HTML object>"
      ]
     },
     "metadata": {},
     "output_type": "display_data"
    }
   ],
   "source": [
    "butterfly = Butterfly(call[5000], call[5075], call[5150])\n",
    "g.profit_strategy(butterfly)\n",
    "print('Cost-Butterfly : {:0.02f}€'.format(butterfly.cost()))\n",
    "g.display_summary(butterfly)"
   ]
  },
  {
   "cell_type": "code",
   "execution_count": null,
   "metadata": {},
   "outputs": [],
   "source": [
    "#ratio-spreads\n",
    "rspread2 = RatioSpread(call[5100], call[5200])\n",
    "print('Ratio Backspreads Cost : {:0.02f}€'.format(rspread2.cost()))\n",
    "g.profit_strategy(rspread2)\n",
    "\n",
    "ratio_backspreads = RatioSpread(call[5100], call[5200], ratio=3)\n",
    "print('Ratio Backspreads Cost : {:0.02f}€'.format(ratio_backspreads.cost()))\n",
    "g.profit_strategy(ratio_backspreads)\n",
    "\n",
    "print('Compare Ratio Backspreads with simple Call long')\n",
    "print('Ratio Backspreads Cost : {:0.02f}€'.format(ratio_backspreads.cost()))\n",
    "print('Call 5000 Cost : {:0.02f}€'.format(call[4900].cost('long')))\n",
    "g.compare(ratio_backspreads, 'long', call[4900], 'long')\n",
    "\n",
    "print(rspread2.label)\n",
    "g.display_summary(rspread2)\n",
    "print(ratio_backspreads.label)\n",
    "g.display_summary(ratio_backspreads)"
   ]
  },
  {
   "cell_type": "code",
   "execution_count": null,
   "metadata": {},
   "outputs": [],
   "source": [
    "straddle = (Strategy('Straddle')\n",
    "            .add(call[5200], 'short', 1)\n",
    "            .add(put[5000], 'short', 1)\n",
    "           )\n",
    "print('Straddle Cost : {}'.format(straddle.cost()))\n",
    "g.profit_strategy(straddle)\n",
    "stats = {'min': min(straddle.payoff(g.sT, 'long')),\n",
    "         'max': max(straddle.payoff(g.sT, 'long')),\n",
    "         'cost': straddle.cost()}\n",
    "print(stats)\n",
    "\n",
    "print('Compare Straddle with simple Put short')\n",
    "print('Straddle Cost : {:0.02f}€'.format(straddle.cost()))\n",
    "print('Put 5000 Cost : {:0.02f}€'.format(put[5000].cost('short')))\n",
    "g.compare(straddle, 'long', put[5000], 'short')\n",
    "g.display_summary(straddle)\n"
   ]
  },
  {
   "cell_type": "code",
   "execution_count": null,
   "metadata": {},
   "outputs": [],
   "source": [
    "strat1 = (Strategy('Stratis 5100-..-5300 croissant')\n",
    "          .add(put[5000], 'short', 3)\n",
    "          .add(put[5100], 'short', 2)\n",
    "          .add(put[5200], 'short', 1)\n",
    "        )\n",
    "strat2 = (Strategy('Stratis 5100-..-5300 decroissant')\n",
    "             .add(put[5000], 'short', 1)\n",
    "             .add(put[5100], 'short', 2)\n",
    "             .add(put[5200], 'short', 3)\n",
    "        )\n",
    "print('{} Cost : {}'.format(strat1.label, strat1.cost()))\n",
    "stats = {'min': min(strat1.payoff(g.sT, 'long')),\n",
    "         'max': max(strat1.payoff(g.sT, 'long')),\n",
    "         'cost': strat1.cost()}\n",
    "print(stats)\n",
    "print('{} Cost : {}'.format(strat2.label, strat2.cost()))\n",
    "g.profit_strategy(strat1)\n",
    "g.profit_strategy(strat2)\n",
    "g.compare(strat1, 'long', strat2, 'long')"
   ]
  },
  {
   "cell_type": "code",
   "execution_count": null,
   "metadata": {},
   "outputs": [],
   "source": [
    "bspread2 = BoxSpread(call[5000], call[4900], put[5100], put[5200])\n",
    "bspread1 = BoxSpread(call[5000], call[4950], put[5150], put[5200])\n",
    "\n",
    "display(Markdown('## {}'.format(bspread1.label)))\n",
    "print('{} Cost : {}'.format(bspread1.label, bspread1.cost()))\n",
    "g.profit_strategy(bspread1)\n",
    "g.display_summary(bspread1)\n",
    "\n",
    "display(Markdown('## {}'.format(bspread2.label)))\n",
    "print('{} Cost : {}'.format(bspread2.label, bspread2.cost()))\n",
    "g.profit_strategy(bspread2)\n",
    "g.display_summary(bspread2)\n",
    "\n",
    "g.compare(bspread2, 'long', bspread1, 'long')\n"
   ]
  },
  {
   "cell_type": "code",
   "execution_count": null,
   "metadata": {},
   "outputs": [],
   "source": [
    "cspread1 = CallSpread(call[5000], call[5200])\n",
    "print('{} Cost : {}'.format(cspread1.label, cspread1.cost()))\n",
    "cspread2 = CallSpread(call[4900], call[5100])\n",
    "print('{} Cost : {}'.format(cspread2.label, cspread2.cost()))\n",
    "g.profit_strategy(cspread1)\n",
    "g.profit_strategy(cspread2)\n",
    "g.compare(cspread1, 'long', cspread2, 'long')"
   ]
  },
  {
   "cell_type": "code",
   "execution_count": null,
   "metadata": {},
   "outputs": [],
   "source": [
    "pspread1 = PutSpread(put[5200], put[5000])\n",
    "print('{} Cost : {}'.format(pspread1.label, pspread1.cost()))\n",
    "g.profit_strategy(pspread1)\n",
    "pspread2 = PutSpread(put[5150], put[5100])\n",
    "print('{} Cost : {}'.format(pspread2.label, pspread2.cost()))\n",
    "g.profit_strategy(pspread2)\n",
    "g.compare(pspread1, 'long', pspread2, 'long')"
   ]
  },
  {
   "cell_type": "code",
   "execution_count": null,
   "metadata": {},
   "outputs": [],
   "source": [
    "ironcondor = IronCondor(put[5050], put[5000], call[5150], call[5200])\n",
    "print('{} Cost : {}'.format(ironcondor.label, ironcondor.cost()))\n",
    "risk = min(ironcondor.payoff(g.sT, 'long'))\n",
    "print('{} Risk : {}'.format(ironcondor.label,risk))\n",
    "g.profit_strategy(ironcondor)\n",
    "g.display_summary(ironcondor)\n",
    "\n",
    "ironcondor = IronCondor(put[5000], put[4950], call[5150], call[5200])\n",
    "print('{} Cost : {}'.format(ironcondor.label, ironcondor.cost()))\n",
    "risk = min(ironcondor.payoff(g.sT, 'long'))\n",
    "print('{} Risk : {}'.format(ironcondor.label,risk))\n",
    "g.profit_strategy(ironcondor)\n",
    "g.display_summary(ironcondor)"
   ]
  },
  {
   "cell_type": "code",
   "execution_count": null,
   "metadata": {},
   "outputs": [],
   "source": [
    "help(IronCondor)"
   ]
  },
  {
   "cell_type": "code",
   "execution_count": null,
   "metadata": {},
   "outputs": [],
   "source": [
    "g.profit_rainbow(call.values(), 'short', title='Call Rainbow')\n",
    "g.profit_rainbow(put.values(), 'short', title='Put Rainbow')"
   ]
  },
  {
   "cell_type": "code",
   "execution_count": null,
   "metadata": {},
   "outputs": [],
   "source": [
    "call"
   ]
  },
  {
   "cell_type": "code",
   "execution_count": null,
   "metadata": {},
   "outputs": [],
   "source": [
    "def Butterfly(call_low, call_middle, call_high, label=None):\n",
    "    label = ('Butterfly {}-2*{}+{}'\n",
    "             .format(call_low.strike,\n",
    "                     call_middle.strike,\n",
    "                     call_high.strike)\n",
    "            if not label else label)\n",
    "    butterfly = (Strategy(label)\n",
    "                 .add(call_low, 'long', 1)\n",
    "                 .add(call_middle, 'short', 2)\n",
    "                 .add(call_high, 'long', 1))\n",
    "    return butterfly"
   ]
  },
  {
   "cell_type": "code",
   "execution_count": null,
   "metadata": {},
   "outputs": [],
   "source": [
    "call_low = Option(cat='Call', strike=4900, achat=174.2, vente=0, multiplier=10)\n",
    "call_middle = Option(cat='Call', strike=5000, achat=0, vente=80.3, multiplier=10)\n",
    "call_high = Option(cat='Call', strike=5100, achat=21.2, vente=0, multiplier=10)\n",
    "butterfly = Butterfly(call_low, call_middle, call_high)\n",
    "g.profit_strategy(butterfly)\n",
    "print('Cost-Butterfly : {:0.02f}€'.format(butterfly.cost()))\n",
    "stats = {'min': min(butterfly.payoff(g.sT, 'long')),\n",
    "         'max': max(butterfly.payoff(g.sT, 'long')),\n",
    "         'cost': butterfly.cost()}\n",
    "print(stats)\n",
    "g.display_summary(butterfly)\n",
    "cac=5025.20\n",
    "payoff = {'payoff_low': (cac - 4900 - 174.2) * 10,\n",
    "          'payoff_middle': 2 * (80.3 - (cac - 5000)) * 10,\n",
    "          'payoff_high': -21.2 * 10}\n",
    "print('{}'.format(payoff))\n",
    "print('{}'.format(sum(v for v in payoff.values())))"
   ]
  }
 ],
 "metadata": {
  "celltoolbar": "Aucun(e)",
  "kernelspec": {
   "display_name": "Python 3",
   "language": "python",
   "name": "python3"
  },
  "language_info": {
   "codemirror_mode": {
    "name": "ipython",
    "version": 3
   },
   "file_extension": ".py",
   "mimetype": "text/x-python",
   "name": "python",
   "nbconvert_exporter": "python",
   "pygments_lexer": "ipython3",
   "version": "3.6.0"
  }
 },
 "nbformat": 4,
 "nbformat_minor": 2
}
