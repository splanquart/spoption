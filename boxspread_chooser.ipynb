{
 "cells": [
  {
   "cell_type": "code",
   "execution_count": 1,
   "metadata": {},
   "outputs": [
    {
     "data": {
      "text/markdown": [
       "### Semaine 50\n",
       "- 1 $\\sigma$ [4696 - 4916]\n",
       "- 2 $\\sigma$ [4586 - 5026]\n",
       "- Pivot 4896\n",
       "- SR1 [5032 - 4677]\n",
       "- SR2 [5251 - 4541]\n",
       "- SR3 [5387 - 4322]\n",
       "    "
      ],
      "text/plain": [
       "<IPython.core.display.Markdown object>"
      ]
     },
     "metadata": {},
     "output_type": "display_data"
    }
   ],
   "source": [
    "import datetime\n",
    "\n",
    "from IPython.display import display, Markdown, Latex\n",
    "\n",
    "from analyse import deviation, pivot_sr\n",
    "from product import Option\n",
    "from strategy import *\n",
    "from euronext import Page, Ticker\n",
    "from graph import Graph, display_week_summary\n",
    "\n",
    "p = Page(ticker=Ticker.CAC2PX, params='Class_type=0&Class_symbol=&Class_exchange=&ex=&ps=999&md=12-2018')\n",
    "p.fetch()\n",
    "(call, put) = p.scrap_options(multiplier=10)\n",
    "var = deviation(close=4797, volatility=23.13, period=5, precision=0)\n",
    "var = deviation(close=4806, volatility=20.90, period=3, precision=0)\n",
    "sd = [var['1']['min'], var['1']['max']]\n",
    "g=Graph(var['2']['min'], var['2']['max'], 1, sd)\n",
    "\n",
    "# Last Week values\n",
    "H = 5115\n",
    "B = 4760\n",
    "C = 4813\n",
    "psr = pivot_sr(H, B, C)\n",
    "display_week_summary(datetime.datetime.now(), psr, var)"
   ]
  },
  {
   "cell_type": "code",
   "execution_count": null,
   "metadata": {
    "scrolled": false
   },
   "outputs": [],
   "source": [
    "\n",
    "s = Strategy('S47-CAC40-straddle').add(put[4900], 'short', 2).add(call[5000], 'short', 2)\n",
    "g.profit(s, 'long')\n",
    "g.display_summary(s)\n",
    "print('pv-max: {} €'.format(max(s.payoff(g.sT, 'long'))))\n",
    "\n",
    "s = Strategy('S47-CAC40-straddle').add(put[4925], 'short', 1).add(call[5000], 'short', 1)\n",
    "g.profit(s, 'long')\n",
    "g.display_summary(s)\n",
    "print('pv-max: {} €'.format(max(s.payoff(g.sT, 'long'))))\n",
    "\n",
    "b11 = Strategy('S47-CAC40-butterfly11').add(put[5000], 'short', 1).add(call[5000], 'short', 1)\n",
    "b12 = Strategy('S47-CAC40-butterfly12').add(put[5000], 'short', 1).add(call[5000], 'short', 2)\n",
    "b21 = Strategy('S47-CAC40-butterfly21').add(put[5000], 'short', 2).add(call[5000], 'short', 1)\n",
    "g.profit(b11, 'long')\n",
    "g.display_summary(b11)\n",
    "print('pv-max: {} €'.format(max(b11.payoff(g.sT, 'long'))))\n",
    "g.profit(b12, 'long')\n",
    "g.display_summary(b12)\n",
    "print('pv-max: {} €'.format(max(b12.payoff(g.sT, 'long'))))\n",
    "g.profit(b21, 'long')\n",
    "g.display_summary(b21)\n",
    "print('pv-max: {} €'.format(max(b21.payoff(g.sT, 'long'))))\n",
    "g.compare(call[4900], 'long', call[4850], 'long')"
   ]
  },
  {
   "cell_type": "code",
   "execution_count": 4,
   "metadata": {},
   "outputs": [
    {
     "data": {
      "image/png": "[encoded data removed]",
      "text/plain": [
       "<Figure size 432x288 with 1 Axes>"
      ]
     },
     "metadata": {},
     "output_type": "display_data"
    },
    {
     "name": "stdout",
     "output_type": "stream",
     "text": [
      "Cost-BoxSpread : -772.00€\n"
     ]
    },
    {
     "data": {
      "text/html": [
       "<table>\n",
       "<thead>\n",
       "<tr><th>Category  </th><th style=\"text-align: right;\">  strike</th><th>direction  </th><th style=\"text-align: right;\">  Quantity</th><th style=\"text-align: right;\">  Cost</th><th style=\"text-align: right;\">  Premium</th></tr>\n",
       "</thead>\n",
       "<tbody>\n",
       "<tr><td>Call      </td><td style=\"text-align: right;\">    4650</td><td>short      </td><td style=\"text-align: right;\">         1</td><td style=\"text-align: right;\"> -1761</td><td style=\"text-align: right;\">   -176.1</td></tr>\n",
       "<tr><td>Call      </td><td style=\"text-align: right;\">    4700</td><td>long       </td><td style=\"text-align: right;\">         1</td><td style=\"text-align: right;\">  1360</td><td style=\"text-align: right;\">    136  </td></tr>\n",
       "<tr><td>Put       </td><td style=\"text-align: right;\">    4950</td><td>short      </td><td style=\"text-align: right;\">         1</td><td style=\"text-align: right;\"> -1279</td><td style=\"text-align: right;\">   -127.9</td></tr>\n",
       "<tr><td>Put       </td><td style=\"text-align: right;\">    4900</td><td>long       </td><td style=\"text-align: right;\">         1</td><td style=\"text-align: right;\">   908</td><td style=\"text-align: right;\">     90.8</td></tr>\n",
       "</tbody>\n",
       "</table>"
      ],
      "text/plain": [
       "<IPython.core.display.HTML object>"
      ]
     },
     "metadata": {},
     "output_type": "display_data"
    }
   ],
   "source": [
    "bspread = BoxSpread(call[4700], call[4650], put[4900], put[4950])\n",
    "bspread = BoxSpread(call[4650], call[4700], put[4950], put[4900])\n",
    "g.profit_strategy(bspread)\n",
    "print('Cost-BoxSpread : {:0.02f}€'.format(bspread.cost()))\n",
    "g.display_summary(bspread)"
   ]
  },
  {
   "cell_type": "code",
   "execution_count": 3,
   "metadata": {},
   "outputs": [
    {
     "data": {
      "text/html": [
       "<table>\n",
       "<thead>\n",
       "<tr><th>Category  </th><th style=\"text-align: right;\">  strike</th><th>direction  </th><th style=\"text-align: right;\">  Quantity</th><th style=\"text-align: right;\">  Cost</th><th style=\"text-align: right;\">  Premium</th></tr>\n",
       "</thead>\n",
       "<tbody>\n",
       "<tr><td>Call      </td><td style=\"text-align: right;\">    4650</td><td>short      </td><td style=\"text-align: right;\">         1</td><td style=\"text-align: right;\"> -1761</td><td style=\"text-align: right;\">   -176.1</td></tr>\n",
       "<tr><td>Call      </td><td style=\"text-align: right;\">    4700</td><td>long       </td><td style=\"text-align: right;\">         1</td><td style=\"text-align: right;\">  1360</td><td style=\"text-align: right;\">    136  </td></tr>\n",
       "<tr><td>Put       </td><td style=\"text-align: right;\">    4950</td><td>short      </td><td style=\"text-align: right;\">         1</td><td style=\"text-align: right;\"> -1279</td><td style=\"text-align: right;\">   -127.9</td></tr>\n",
       "<tr><td>Put       </td><td style=\"text-align: right;\">    4900</td><td>long       </td><td style=\"text-align: right;\">         1</td><td style=\"text-align: right;\">   908</td><td style=\"text-align: right;\">     90.8</td></tr>\n",
       "</tbody>\n",
       "</table>"
      ],
      "text/plain": [
       "<IPython.core.display.HTML object>"
      ]
     },
     "metadata": {},
     "output_type": "display_data"
    },
    {
     "data": {
      "text/html": [
       "<table>\n",
       "<thead>\n",
       "<tr><th>Category  </th><th style=\"text-align: right;\">  strike</th><th>direction  </th><th style=\"text-align: right;\">  Quantity</th><th style=\"text-align: right;\">  Cost</th><th style=\"text-align: right;\">  Premium</th></tr>\n",
       "</thead>\n",
       "<tbody>\n",
       "<tr><td>Call      </td><td style=\"text-align: right;\">    4650</td><td>long       </td><td style=\"text-align: right;\">         1</td><td style=\"text-align: right;\">  1821</td><td style=\"text-align: right;\">    182.1</td></tr>\n",
       "<tr><td>Call      </td><td style=\"text-align: right;\">    4700</td><td>short      </td><td style=\"text-align: right;\">         1</td><td style=\"text-align: right;\"> -1300</td><td style=\"text-align: right;\">   -130  </td></tr>\n",
       "<tr><td>Put       </td><td style=\"text-align: right;\">    4950</td><td>long       </td><td style=\"text-align: right;\">         1</td><td style=\"text-align: right;\">  1339</td><td style=\"text-align: right;\">    133.9</td></tr>\n",
       "<tr><td>Put       </td><td style=\"text-align: right;\">    4900</td><td>short      </td><td style=\"text-align: right;\">         1</td><td style=\"text-align: right;\">  -858</td><td style=\"text-align: right;\">    -85.8</td></tr>\n",
       "</tbody>\n",
       "</table>"
      ],
      "text/plain": [
       "<IPython.core.display.HTML object>"
      ]
     },
     "metadata": {},
     "output_type": "display_data"
    },
    {
     "data": {
      "image/png": "[encoded data removed]",
      "text/plain": [
       "<Figure size 432x288 with 1 Axes>"
      ]
     },
     "metadata": {},
     "output_type": "display_data"
    },
    {
     "name": "stdout",
     "output_type": "stream",
     "text": [
      "Cost-BoxSpread : -772.00€\n"
     ]
    },
    {
     "data": {
      "image/png": "[encoded data removed]",
      "text/plain": [
       "<Figure size 432x288 with 1 Axes>"
      ]
     },
     "metadata": {},
     "output_type": "display_data"
    },
    {
     "name": "stdout",
     "output_type": "stream",
     "text": [
      "Cost-BoxSpread : 1002.00€\n"
     ]
    }
   ],
   "source": [
    "bspread = BoxSpread(call[4650], call[4700], put[4950], put[4900])\n",
    "g.display_summary(bspread)\n",
    "bspreadi = bspread.short();\n",
    "g.display_summary(bspreadi)\n",
    "bspreadi.options\n",
    "g.profit_strategy(bspread)\n",
    "print('Cost-BoxSpread : {:0.02f}€'.format(bspread.cost()))\n",
    "g.profit_strategy(bspreadi)\n",
    "print('Cost-BoxSpread : {:0.02f}€'.format(bspreadi.cost()))"
   ]
  },
  {
   "cell_type": "code",
   "execution_count": null,
   "metadata": {},
   "outputs": [],
   "source": [
    "g.profit_rainbow(call.values(), 'short', title='Call Rainbow')"
   ]
  },
  {
   "cell_type": "code",
   "execution_count": null,
   "metadata": {
    "scrolled": false
   },
   "outputs": [],
   "source": [
    "bss = BoxSpread.explorator(call.values(), put.values(), spread=50, gap=100)\n",
    "g.profit_rainbow(bss, 'long', title='BoxSpread Rainbow')"
   ]
  },
  {
   "cell_type": "code",
   "execution_count": null,
   "metadata": {},
   "outputs": [],
   "source": [
    "bss = BoxSpread.explorator(call.values(), put.values(), spread=50, gap=75)\n",
    "g.profit_rainbow(bss, 'long', title='BoxSpread Rainbow')"
   ]
  },
  {
   "cell_type": "code",
   "execution_count": null,
   "metadata": {},
   "outputs": [],
   "source": [
    "g.profit_rainbow(call.values(), 'short', title='BoxSpread Rainbow')"
   ]
  },
  {
   "cell_type": "code",
   "execution_count": null,
   "metadata": {},
   "outputs": [],
   "source": [
    "s = (Strategy('S49-CAC40')\n",
    "     #.add(Option(cat='Call', strike=5075, vente=2.8, multiplier=10), 'short', 1)\n",
    "     #.add(Option(cat='Call', strike=5050, achat=0.5, multiplier=10), 'long', 1)\n",
    "     .add(put[4625], 'long', 1)\n",
    "     .add(put[4600], 'short', 1)\n",
    "     .add(put[4700], 'long', 1)\n",
    "     .add(put[4725], 'short', 1)\n",
    "    )\n",
    "#s = bss[9]\n",
    "g.profit(s, 'long')\n",
    "g.display_summary(s)\n",
    "print('pv-max: {} €'.format(max(s.payoff(g.sT, 'long'))))\n",
    "print('pv-min: {} €'.format(min(s.payoff(g.sT, 'long'))))\n"
   ]
  },
  {
   "cell_type": "code",
   "execution_count": null,
   "metadata": {},
   "outputs": [],
   "source": [
    "s = (Strategy('S49-CAC40')\n",
    "     .add(call[4850], 'short', 1)\n",
    "     .add(call[4750], 'long', 1)\n",
    "     #.add(call[4900], 'short', 1)\n",
    "     #.add(call[4925], 'long', 1)\n",
    "     #.add(Option(cat='Call', strike=5075, vente=2.8, multiplier=10), 'short', 1)\n",
    "     #.add(Option(cat='Call', strike=5050, achat=0.5, multiplier=10), 'long', 1)\n",
    "     #.add(call[5050], 'long', 1)\n",
    "    )\n",
    "g.profit(s, 'long')\n",
    "g.display_summary(s)\n",
    "print('pv-max: {} €'.format(max(s.payoff(g.sT, 'long'))))\n",
    "print('pv-min: {} €'.format(min(s.payoff(g.sT, 'long'))))"
   ]
  },
  {
   "cell_type": "code",
   "execution_count": null,
   "metadata": {},
   "outputs": [],
   "source": [
    "s = (Strategy('S49-CAC40')\n",
    "     #.add(call[4900], 'long', 1)\n",
    "     #.add(put[4850], 'short', 1)\n",
    "     .add(put[4850], 'short', 1)\n",
    "     #.add(call[4900], 'short', 1)\n",
    "     #.add(put[4900], 'long', 1)\n",
    "     #.add(call[5050], 'long', 1)\n",
    "     #.add(Option(cat='Call', strike=5075, vente=2.8, multiplier=10), 'short', 1)\n",
    "     #.add(Option(cat='Call', strike=5050, achat=0.5, multiplier=10), 'long', 1)\n",
    "     #.add(call[5050], 'long', 1)\n",
    "    )\n",
    "g.profit(s, 'long')\n",
    "g.display_summary(s)\n",
    "print('pv-max: {} €'.format(max(s.payoff(g.sT, 'long'))))\n",
    "print('pv-min: {} €'.format(min(s.payoff(g.sT, 'long'))))\n",
    "import numpy as np\n",
    "v = s.payoff(np.array(g.sdeviation), 'long')\n",
    "\n",
    "for s, pv in zip(g.sdeviation, v):\n",
    "    print('{} -> {}'.format(s, pv))"
   ]
  },
  {
   "cell_type": "code",
   "execution_count": null,
   "metadata": {},
   "outputs": [],
   "source": [
    "s = (Strategy('S49-CAC40')\n",
    "     #.add(call[4900], 'long', 1)\n",
    "     #.add(put[4850], 'short', 1)\n",
    "     .add(put[4850], 'short', 1)\n",
    "     #.add(call[4900], 'short', 1)\n",
    "     #.add(put[4900], 'long', 1)\n",
    "     #.add(call[5050], 'long', 1)\n",
    "     #.add(Option(cat='Call', strike=5075, vente=2.8, multiplier=10), 'short', 1)\n",
    "     #.add(Option(cat='Call', strike=5050, achat=0.5, multiplier=10), 'long', 1)\n",
    "     #.add(call[5050], 'long', 1)\n",
    "    )\n",
    "g.profit(s, 'long')\n",
    "g.display_summary(s)\n",
    "print('pv-max: {} €'.format(max(s.payoff(g.sT, 'long'))))\n",
    "print('pv-min: {} €'.format(min(s.payoff(g.sT, 'long'))))\n",
    "import numpy as np\n",
    "v = s.payoff(np.array(g.sdeviation), 'long')\n",
    "\n",
    "for s, pv in zip(g.sdeviation, v):\n",
    "    print('{} -> {}'.format(s, pv))"
   ]
  },
  {
   "cell_type": "code",
   "execution_count": null,
   "metadata": {},
   "outputs": [],
   "source": [
    "deviation(close=4963, volatility=22, period=3, precision=0)"
   ]
  },
  {
   "cell_type": "code",
   "execution_count": null,
   "metadata": {},
   "outputs": [],
   "source": [
    "p2 = Page(ticker=Ticker.CAC1PX, params='Class_type=0&Class_symbol=&Class_exchange=&ex=&ps=999&md=12-2018')\n",
    "p2.fetch()\n",
    "(call2, put2) = p2.scrap_options(multiplier=10)\n",
    "(call2, put2)"
   ]
  },
  {
   "cell_type": "code",
   "execution_count": null,
   "metadata": {},
   "outputs": [],
   "source": [
    "# Buy 1 ITM Call\n",
    "# Sell 2 ATM Calls\n",
    "\n",
    "\n",
    "# Buy 1 ITM Put\n",
    "# Sell 2 ATM Puts\n",
    "s = (Strategy('S49-CAC40')\n",
    "     .add(put[4900], 'long', 1)\n",
    "     .add(put[4850], 'short', 2)\n",
    "    )\n",
    "g.profit(s, 'long')\n",
    "g.display_summary(s)\n",
    "print('pv-max: {} €'.format(max(s.payoff(g.sT, 'long'))))\n",
    "print('pv-min: {} €'.format(min(s.payoff(g.sT, 'long'))))\n",
    "import numpy as np\n",
    "v = s.payoff(np.array(g.sdeviation), 'long')\n",
    "\n",
    "for s, pv in zip(g.sdeviation, v):\n",
    "    print('{} -> {}'.format(s, pv))"
   ]
  },
  {
   "cell_type": "code",
   "execution_count": null,
   "metadata": {},
   "outputs": [],
   "source": [
    "print(p._url)"
   ]
  },
  {
   "cell_type": "code",
   "execution_count": null,
   "metadata": {},
   "outputs": [],
   "source": []
  }
 ],
 "metadata": {
  "kernelspec": {
   "display_name": "Python 3",
   "language": "python",
   "name": "python3"
  },
  "language_info": {
   "codemirror_mode": {
    "name": "ipython",
    "version": 3
   },
   "file_extension": ".py",
   "mimetype": "text/x-python",
   "name": "python",
   "nbconvert_exporter": "python",
   "pygments_lexer": "ipython3",
   "version": "3.6.4"
  }
 },
 "nbformat": 4,
 "nbformat_minor": 2
}
