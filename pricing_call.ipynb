{
 "cells": [
  {
   "cell_type": "code",
   "execution_count": 60,
   "metadata": {},
   "outputs": [],
   "source": [
    "import numpy as np\n",
    "import matplotlib.pyplot as plt\n",
    "def show_profit(x, y, legende, color):    \n",
    "    fig, ax = plt.subplots()\n",
    "    ax.spines['top'].set_visible(False) # Top border removed\n",
    "    ax.spines['right'].set_visible(False) # Right border removed\n",
    "    ax.spines['bottom'].set_position('zero') # Sets the X-axis in the center\n",
    "    ax.plot(x, y, label=legende,color=color)\n",
    "    plt.xlabel('Stock Price')\n",
    "    plt.ylabel('Profit and loss')\n",
    "    plt.legend()\n",
    "    plt.show()\n",
    "def call_payoff(sT, strike, premium):\n",
    "    return np.where(sT > strike, sT - strike, 0) - premium\n",
    "def put_payoff(sT, strike, premium):\n",
    "    return np.where(sT < strike, strike - sT, 0) - premium\n"
   ]
  },
  {
   "cell_type": "code",
   "execution_count": 111,
   "metadata": {},
   "outputs": [],
   "source": [
    "# Define Parameters\n",
    "\n",
    "# SBIN stock price\n",
    "spot_price = 249.25\n",
    "\n",
    "# Long call and put\n",
    "strike_price_long_call = 5200\n",
    "premium_long_call = 153\n",
    "strike_price_long_put = 5200\n",
    "premium_long_put = 120.3\n",
    "\n",
    "# Stock price range at expiration of the put\n",
    "sT = np.arange(4900,5600,25)\n",
    "payoff_long_call = call_payoff (sT, strike_price_long_call, premium_long_call)\n",
    "payoff_long_put = put_payoff (sT, strike_price_long_put, premium_long_put)\n",
    "payoff_long_call_and_put = (payoff_long_call + payoff_long_put)\n",
    "\n",
    "\n",
    "# Define Parameters\n",
    "\n",
    "# SBIN stock price\n",
    "spot_price = 249.25\n",
    "\n",
    "# Long call and put\n",
    "strike_price_long_call = 5200\n",
    "premium_long_call = 153\n",
    "strike_price_long_put = 5075\n",
    "premium_long_put = 4\n",
    "\n",
    "# Stock price range at expiration of the put\n",
    "sT = np.arange(4600,5600,25)\n",
    "payoff_long_call_s2 = call_payoff (sT, strike_price_long_call, premium_long_call)\n",
    "payoff_long_put_s2 = put_payoff (sT, strike_price_long_put, premium_long_put)\n",
    "payoff_long_call_and_put_s2 = (payoff_long_call_s2 + payoff_long_put_s2)"
   ]
  },
  {
   "cell_type": "code",
   "execution_count": 112,
   "metadata": {},
   "outputs": [],
   "source": [
    "call1 = call_payoff(sT, strike=5000, premium=132)\n",
    "call2 = call_payoff(sT, strike=5100, premium=59.8)\n",
    "call3 = call_payoff(sT, strike=5200, premium=16.3)\n",
    "put0 = put_payoff(sT, strike=4900, premium=12.1)\n",
    "put1 = put_payoff(sT, strike=5000, premium=23.6)\n",
    "put2 = put_payoff(sT, strike=5100, premium=52.7)\n",
    "put3 = put_payoff(sT, strike=5200, premium=111)\n"
   ]
  },
  {
   "cell_type": "code",
   "execution_count": 140,
   "metadata": {
    "scrolled": false
   },
   "outputs": [
    {
     "data": {
      "image/png": "[encoded data removed]",
      "text/plain": [
       "<Figure size 432x288 with 1 Axes>"
      ]
     },
     "metadata": {
      "needs_background": "light"
     },
     "output_type": "display_data"
    }
   ],
   "source": [
    "#show_profit(sT,call1,'Long Call','g')\n",
    "#show_profit(sT,put1,'Long Put','b')\n",
    "#show_profit(sT, call1+put3, 'call1+put3', 'b')\n",
    "#show_profit(sT, call3-put1, 'call3+put1', 'r')\n",
    "show_profit(sT, call1+put3, 'testing', 'r')"
   ]
  },
  {
   "cell_type": "code",
   "execution_count": null,
   "metadata": {},
   "outputs": [],
   "source": []
  }
 ],
 "metadata": {
  "kernelspec": {
   "display_name": "Python 3",
   "language": "python",
   "name": "python3"
  },
  "language_info": {
   "codemirror_mode": {
    "name": "ipython",
    "version": 3
   },
   "file_extension": ".py",
   "mimetype": "text/x-python",
   "name": "python",
   "nbconvert_exporter": "python",
   "pygments_lexer": "ipython3",
   "version": "3.6.4"
  }
 },
 "nbformat": 4,
 "nbformat_minor": 2
}
