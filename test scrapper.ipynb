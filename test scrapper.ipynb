{
 "cells": [
  {
   "cell_type": "code",
   "execution_count": 1,
   "metadata": {
    "slideshow": {
     "slide_type": "-"
    }
   },
   "outputs": [],
   "source": [
    "from product import Option\n",
    "from strategy import *\n",
    "from euronext import Page\n",
    "from graph import Graph\n",
    "g=Graph(4800, 5500, 25)"
   ]
  },
  {
   "cell_type": "code",
   "execution_count": 2,
   "metadata": {},
   "outputs": [],
   "source": [
    "p = Page()\n",
    "p.fetch()\n",
    "options = p.scrap_options()\n",
    "call = p.call\n",
    "put = p.put\n",
    "for k, o in p.call.items():\n",
    "    o.multiplier=10\n",
    "for k, o in p.put.items():\n",
    "    o.multiplier=10\n"
   ]
  },
  {
   "cell_type": "code",
   "execution_count": 4,
   "metadata": {},
   "outputs": [
    {
     "data": {
      "text/html": [
       "<table>\n",
       "<thead>\n",
       "<tr><th style=\"text-align: right;\">  Settl.C</th><th>OIC  </th><th>Day Vol C  </th><th>Last C  </th><th>bid C  </th><th style=\"text-align: right;\">  ask C</th><th>C  </th><th style=\"text-align: right;\">  strike</th><th>P  </th><th>bid P  </th><th style=\"text-align: right;\">  ask P</th><th>Last P  </th><th>Day Vol P  </th><th>OIP  </th><th style=\"text-align: right;\">  Settl.P</th></tr>\n",
       "</thead>\n",
       "<tbody>\n",
       "<tr><td style=\"text-align: right;\">  1101.55</td><td>-    </td><td>-          </td><td>-       </td><td>1097.70</td><td style=\"text-align: right;\"> 1106.1</td><td>C  </td><td style=\"text-align: right;\">    4000</td><td>P  </td><td>-      </td><td style=\"text-align: right;\">    0.4</td><td>-       </td><td>-          </td><td>568  </td><td style=\"text-align: right;\">     0.01</td></tr>\n",
       "<tr><td style=\"text-align: right;\">   901.55</td><td>-    </td><td>-          </td><td>-       </td><td>897.70 </td><td style=\"text-align: right;\">  906.7</td><td>C  </td><td style=\"text-align: right;\">    4200</td><td>P  </td><td>-      </td><td style=\"text-align: right;\">    0.5</td><td>0.10    </td><td>4          </td><td>489  </td><td style=\"text-align: right;\">     0.01</td></tr>\n",
       "<tr><td style=\"text-align: right;\">   701.62</td><td>-    </td><td>-          </td><td>-       </td><td>697.80 </td><td style=\"text-align: right;\">  706.3</td><td>C  </td><td style=\"text-align: right;\">    4400</td><td>P  </td><td>-      </td><td style=\"text-align: right;\">    0.5</td><td>-       </td><td>-          </td><td>1,069</td><td style=\"text-align: right;\">     0.1 </td></tr>\n",
       "<tr><td style=\"text-align: right;\">   601.7 </td><td>-    </td><td>-          </td><td>-       </td><td>597.80 </td><td style=\"text-align: right;\">  606.9</td><td>C  </td><td style=\"text-align: right;\">    4500</td><td>P  </td><td>0.10   </td><td style=\"text-align: right;\">    0.6</td><td>-       </td><td>-          </td><td>719  </td><td style=\"text-align: right;\">     0.18</td></tr>\n",
       "<tr><td style=\"text-align: right;\">   551.75</td><td>-    </td><td>-          </td><td>-       </td><td>548.40 </td><td style=\"text-align: right;\">  556.9</td><td>C  </td><td style=\"text-align: right;\">    4550</td><td>P  </td><td>0.10   </td><td style=\"text-align: right;\">    0.7</td><td>-       </td><td>-          </td><td>63   </td><td style=\"text-align: right;\">     0.23</td></tr>\n",
       "<tr><td style=\"text-align: right;\">   501.8 </td><td>-    </td><td>-          </td><td>-       </td><td>497.90 </td><td style=\"text-align: right;\">  506.5</td><td>C  </td><td style=\"text-align: right;\">    4600</td><td>P  </td><td>0.10   </td><td style=\"text-align: right;\">    0.7</td><td>0.70    </td><td>15         </td><td>1,005</td><td style=\"text-align: right;\">     0.28</td></tr>\n",
       "<tr><td style=\"text-align: right;\">   451.87</td><td>-    </td><td>-          </td><td>-       </td><td>448.40 </td><td style=\"text-align: right;\">  457.1</td><td>C  </td><td style=\"text-align: right;\">    4650</td><td>P  </td><td>0.20   </td><td style=\"text-align: right;\">    0.8</td><td>-       </td><td>-          </td><td>70   </td><td style=\"text-align: right;\">     0.35</td></tr>\n",
       "<tr><td style=\"text-align: right;\">   401.96</td><td>-    </td><td>-          </td><td>-       </td><td>398.00 </td><td style=\"text-align: right;\">  407.2</td><td>C  </td><td style=\"text-align: right;\">    4700</td><td>P  </td><td>0.30   </td><td style=\"text-align: right;\">    0.9</td><td>-       </td><td>-          </td><td>927  </td><td style=\"text-align: right;\">     0.44</td></tr>\n",
       "<tr><td style=\"text-align: right;\">   352.22</td><td>-    </td><td>-          </td><td>-       </td><td>348.60 </td><td style=\"text-align: right;\">  357.3</td><td>C  </td><td style=\"text-align: right;\">    4750</td><td>P  </td><td>0.30   </td><td style=\"text-align: right;\">    1.1</td><td>1.10    </td><td>20         </td><td>117  </td><td style=\"text-align: right;\">     0.71</td></tr>\n",
       "<tr><td style=\"text-align: right;\">   302.27</td><td>9    </td><td>-          </td><td>-       </td><td>298.30 </td><td style=\"text-align: right;\">  307  </td><td>C  </td><td style=\"text-align: right;\">    4800</td><td>P  </td><td>0.40   </td><td style=\"text-align: right;\">    0.9</td><td>1.20    </td><td>1          </td><td>758  </td><td style=\"text-align: right;\">     0.76</td></tr>\n",
       "<tr><td style=\"text-align: right;\">   277.48</td><td>24   </td><td>-          </td><td>-       </td><td>273.90 </td><td style=\"text-align: right;\">  282.7</td><td>C  </td><td style=\"text-align: right;\">    4825</td><td>P  </td><td>0.50   </td><td style=\"text-align: right;\">    1.2</td><td>-       </td><td>-          </td><td>153  </td><td style=\"text-align: right;\">     0.96</td></tr>\n",
       "<tr><td style=\"text-align: right;\">   252.83</td><td>99   </td><td>-          </td><td>-       </td><td>249.10 </td><td style=\"text-align: right;\">  257.9</td><td>C  </td><td style=\"text-align: right;\">    4850</td><td>P  </td><td>0.60   </td><td style=\"text-align: right;\">    1.3</td><td>2.00    </td><td>1          </td><td>439  </td><td style=\"text-align: right;\">     1.32</td></tr>\n",
       "<tr><td style=\"text-align: right;\">   228.14</td><td>65   </td><td>-          </td><td>-       </td><td>224.40 </td><td style=\"text-align: right;\">  233.1</td><td>C  </td><td style=\"text-align: right;\">    4875</td><td>P  </td><td>0.80   </td><td style=\"text-align: right;\">    2.1</td><td>-       </td><td>-          </td><td>340  </td><td style=\"text-align: right;\">     1.63</td></tr>\n",
       "<tr><td style=\"text-align: right;\">   203.59</td><td>146  </td><td>-          </td><td>-       </td><td>199.30 </td><td style=\"text-align: right;\">  208  </td><td>C  </td><td style=\"text-align: right;\">    4900</td><td>P  </td><td>1.50   </td><td style=\"text-align: right;\">    2.6</td><td>2.20    </td><td>272        </td><td>2,096</td><td style=\"text-align: right;\">     2.08</td></tr>\n",
       "<tr><td style=\"text-align: right;\">   179.2 </td><td>118  </td><td>-          </td><td>-       </td><td>175.50 </td><td style=\"text-align: right;\">  184  </td><td>C  </td><td style=\"text-align: right;\">    4925</td><td>P  </td><td>1.90   </td><td style=\"text-align: right;\">    3.2</td><td>5.40    </td><td>38         </td><td>1,152</td><td style=\"text-align: right;\">     2.7 </td></tr>\n",
       "<tr><td style=\"text-align: right;\">   155.22</td><td>268  </td><td>-          </td><td>-       </td><td>151.10 </td><td style=\"text-align: right;\">  159.8</td><td>C  </td><td style=\"text-align: right;\">    4950</td><td>P  </td><td>2.80   </td><td style=\"text-align: right;\">    4.2</td><td>4.00    </td><td>39         </td><td>424  </td><td style=\"text-align: right;\">     3.71</td></tr>\n",
       "<tr><td style=\"text-align: right;\">   131.65</td><td>264  </td><td>-          </td><td>-       </td><td>128.20 </td><td style=\"text-align: right;\">  135.5</td><td>C  </td><td style=\"text-align: right;\">    4975</td><td>P  </td><td>4.10   </td><td style=\"text-align: right;\">    5.6</td><td>4.50    </td><td>45         </td><td>162  </td><td style=\"text-align: right;\">     5.14</td></tr>\n",
       "<tr><td style=\"text-align: right;\">   108.98</td><td>255  </td><td>4          </td><td>76.40   </td><td>105.30 </td><td style=\"text-align: right;\">  112.3</td><td>C  </td><td style=\"text-align: right;\">    5000</td><td>P  </td><td>6.20   </td><td style=\"text-align: right;\">    7.8</td><td>6.60    </td><td>245        </td><td>1,064</td><td style=\"text-align: right;\">     7.48</td></tr>\n",
       "<tr><td style=\"text-align: right;\">    87.59</td><td>150  </td><td>1          </td><td>64.90   </td><td>85.60  </td><td style=\"text-align: right;\">   90.1</td><td>C  </td><td style=\"text-align: right;\">    5025</td><td>P  </td><td>9.40   </td><td style=\"text-align: right;\">   11.2</td><td>11.10   </td><td>32         </td><td>97   </td><td style=\"text-align: right;\">    11.09</td></tr>\n",
       "<tr><td style=\"text-align: right;\">    67.28</td><td>353  </td><td>52         </td><td>61.30   </td><td>65.80  </td><td style=\"text-align: right;\">   69.1</td><td>C  </td><td style=\"text-align: right;\">    5050</td><td>P  </td><td>14.10  </td><td style=\"text-align: right;\">   15.4</td><td>19.10   </td><td>64         </td><td>230  </td><td style=\"text-align: right;\">    15.78</td></tr>\n",
       "<tr><td style=\"text-align: right;\">    49.6 </td><td>185  </td><td>54         </td><td>52.00   </td><td>47.90  </td><td style=\"text-align: right;\">   50.9</td><td>C  </td><td style=\"text-align: right;\">    5075</td><td>P  </td><td>21.20  </td><td style=\"text-align: right;\">   23.5</td><td>38.30   </td><td>64         </td><td>170  </td><td style=\"text-align: right;\">    23.1 </td></tr>\n",
       "<tr><td style=\"text-align: right;\">    33.57</td><td>3,597</td><td>273        </td><td>36.00   </td><td>32.50  </td><td style=\"text-align: right;\">   35.1</td><td>C  </td><td style=\"text-align: right;\">    5100</td><td>P  </td><td>30.60  </td><td style=\"text-align: right;\">   32.2</td><td>32.00   </td><td>50         </td><td>4,187</td><td style=\"text-align: right;\">    32.07</td></tr>\n",
       "<tr><td style=\"text-align: right;\">    21.89</td><td>473  </td><td>57         </td><td>22.60   </td><td>21.00  </td><td style=\"text-align: right;\">   22.7</td><td>C  </td><td style=\"text-align: right;\">    5125</td><td>P  </td><td>43.10  </td><td style=\"text-align: right;\">   46.1</td><td>61.00   </td><td>3          </td><td>185  </td><td style=\"text-align: right;\">    45.39</td></tr>\n",
       "<tr><td style=\"text-align: right;\">    12.96</td><td>1,050</td><td>161        </td><td>14.20   </td><td>12.00  </td><td style=\"text-align: right;\">   13.9</td><td>C  </td><td style=\"text-align: right;\">    5150</td><td>P  </td><td>58.90  </td><td style=\"text-align: right;\">   62.2</td><td>60.00   </td><td>68         </td><td>2,032</td><td style=\"text-align: right;\">    61.46</td></tr>\n",
       "<tr><td style=\"text-align: right;\">     6.91</td><td>286  </td><td>131        </td><td>7.60    </td><td>7.00   </td><td style=\"text-align: right;\">    7.9</td><td>C  </td><td style=\"text-align: right;\">    5175</td><td>P  </td><td>76.80  </td><td style=\"text-align: right;\">   83.5</td><td>-       </td><td>-          </td><td>6    </td><td style=\"text-align: right;\">    80.42</td></tr>\n",
       "<tr><td style=\"text-align: right;\">     3.39</td><td>1,630</td><td>192        </td><td>4.00    </td><td>3.00   </td><td style=\"text-align: right;\">    4.4</td><td>C  </td><td style=\"text-align: right;\">    5200</td><td>P  </td><td>97.60  </td><td style=\"text-align: right;\">  105.4</td><td>129.70  </td><td>24         </td><td>953  </td><td style=\"text-align: right;\">   101.9 </td></tr>\n",
       "<tr><td style=\"text-align: right;\">     1.64</td><td>375  </td><td>17         </td><td>1.20    </td><td>1.30   </td><td style=\"text-align: right;\">    2.6</td><td>C  </td><td style=\"text-align: right;\">    5225</td><td>P  </td><td>120.10 </td><td style=\"text-align: right;\">  128.7</td><td>-       </td><td>-          </td><td>44   </td><td style=\"text-align: right;\">   125.15</td></tr>\n",
       "<tr><td style=\"text-align: right;\">     0.77</td><td>2,369</td><td>567        </td><td>0.80    </td><td>0.50   </td><td style=\"text-align: right;\">    1  </td><td>C  </td><td style=\"text-align: right;\">    5250</td><td>P  </td><td>144.90 </td><td style=\"text-align: right;\">  153.7</td><td>171.10  </td><td>42         </td><td>1,052</td><td style=\"text-align: right;\">   149.28</td></tr>\n",
       "<tr><td style=\"text-align: right;\">     0.43</td><td>568  </td><td>30         </td><td>0.60    </td><td>0.30   </td><td style=\"text-align: right;\">    0.6</td><td>C  </td><td style=\"text-align: right;\">    5300</td><td>P  </td><td>193.80 </td><td style=\"text-align: right;\">  203.1</td><td>230.60  </td><td>4          </td><td>1,274</td><td style=\"text-align: right;\">   198.94</td></tr>\n",
       "<tr><td style=\"text-align: right;\">     0.18</td><td>981  </td><td>5          </td><td>0.20    </td><td>-      </td><td style=\"text-align: right;\">    0.5</td><td>C  </td><td style=\"text-align: right;\">    5350</td><td>P  </td><td>243.60 </td><td style=\"text-align: right;\">  252.7</td><td>275.40  </td><td>2          </td><td>3,344</td><td style=\"text-align: right;\">   248.69</td></tr>\n",
       "<tr><td style=\"text-align: right;\">     0.11</td><td>873  </td><td>4          </td><td>0.20    </td><td>0.10   </td><td style=\"text-align: right;\">    0.2</td><td>C  </td><td style=\"text-align: right;\">    5400</td><td>P  </td><td>293.60 </td><td style=\"text-align: right;\">  302.5</td><td>315.10  </td><td>10         </td><td>561  </td><td style=\"text-align: right;\">   298.62</td></tr>\n",
       "<tr><td style=\"text-align: right;\">     0.05</td><td>359  </td><td>-          </td><td>-       </td><td>-      </td><td style=\"text-align: right;\">    0.3</td><td>C  </td><td style=\"text-align: right;\">    5450</td><td>P  </td><td>343.60 </td><td style=\"text-align: right;\">  352.5</td><td>-       </td><td>-          </td><td>95   </td><td style=\"text-align: right;\">   348.57</td></tr>\n",
       "<tr><td style=\"text-align: right;\">     0.02</td><td>777  </td><td>-          </td><td>-       </td><td>-      </td><td style=\"text-align: right;\">    0.1</td><td>C  </td><td style=\"text-align: right;\">    5500</td><td>P  </td><td>393.60 </td><td style=\"text-align: right;\">  402.5</td><td>-       </td><td>-          </td><td>149  </td><td style=\"text-align: right;\">   398.54</td></tr>\n",
       "<tr><td style=\"text-align: right;\">     0.01</td><td>384  </td><td>-          </td><td>-       </td><td>-      </td><td style=\"text-align: right;\">    0.3</td><td>C  </td><td style=\"text-align: right;\">    5550</td><td>P  </td><td>443.60 </td><td style=\"text-align: right;\">  452.5</td><td>-       </td><td>-          </td><td>77   </td><td style=\"text-align: right;\">   448.52</td></tr>\n",
       "<tr><td style=\"text-align: right;\">     0.01</td><td>425  </td><td>-          </td><td>-       </td><td>-      </td><td style=\"text-align: right;\">    0.2</td><td>C  </td><td style=\"text-align: right;\">    5600</td><td>P  </td><td>493.60 </td><td style=\"text-align: right;\">  502.5</td><td>-       </td><td>-          </td><td>55   </td><td style=\"text-align: right;\">   498.52</td></tr>\n",
       "<tr><td style=\"text-align: right;\">     0.01</td><td>375  </td><td>-          </td><td>-       </td><td>-      </td><td style=\"text-align: right;\">    0.3</td><td>C  </td><td style=\"text-align: right;\">    5650</td><td>P  </td><td>543.60 </td><td style=\"text-align: right;\">  552.5</td><td>-       </td><td>-          </td><td>1    </td><td style=\"text-align: right;\">   548.52</td></tr>\n",
       "<tr><td style=\"text-align: right;\">     0.01</td><td>1,711</td><td>-          </td><td>-       </td><td>-      </td><td style=\"text-align: right;\">    0.3</td><td>C  </td><td style=\"text-align: right;\">    5700</td><td>P  </td><td>593.60 </td><td style=\"text-align: right;\">  602.5</td><td>-       </td><td>-          </td><td>1    </td><td style=\"text-align: right;\">   598.52</td></tr>\n",
       "<tr><td style=\"text-align: right;\">     0.01</td><td>714  </td><td>-          </td><td>-       </td><td>-      </td><td style=\"text-align: right;\">    0.1</td><td>C  </td><td style=\"text-align: right;\">    5800</td><td>P  </td><td>693.60 </td><td style=\"text-align: right;\">  702.5</td><td>-       </td><td>-          </td><td>-    </td><td style=\"text-align: right;\">   698.53</td></tr>\n",
       "<tr><td style=\"text-align: right;\">     0.01</td><td>201  </td><td>-          </td><td>-       </td><td>-      </td><td style=\"text-align: right;\">    0.3</td><td>C  </td><td style=\"text-align: right;\">    5900</td><td>P  </td><td>793.60 </td><td style=\"text-align: right;\">  802.5</td><td>-       </td><td>-          </td><td>-    </td><td style=\"text-align: right;\">   798.53</td></tr>\n",
       "<tr><td style=\"text-align: right;\">     0.01</td><td>25   </td><td>-          </td><td>-       </td><td>-      </td><td style=\"text-align: right;\">    0.1</td><td>C  </td><td style=\"text-align: right;\">    6000</td><td>P  </td><td>893.60 </td><td style=\"text-align: right;\">  902.5</td><td>-       </td><td>-          </td><td>-    </td><td style=\"text-align: right;\">   898.54</td></tr>\n",
       "<tr><td style=\"text-align: right;\">     0.01</td><td>10   </td><td>-          </td><td>-       </td><td>-      </td><td style=\"text-align: right;\">    0.3</td><td>C  </td><td style=\"text-align: right;\">    6100</td><td>P  </td><td>993.60 </td><td style=\"text-align: right;\"> 1002.5</td><td>-       </td><td>-          </td><td>-    </td><td style=\"text-align: right;\">   998.54</td></tr>\n",
       "<tr><td style=\"text-align: right;\">     0.01</td><td>-    </td><td>-          </td><td>-       </td><td>-      </td><td style=\"text-align: right;\">    0.1</td><td>C  </td><td style=\"text-align: right;\">    6200</td><td>P  </td><td>1093.60</td><td style=\"text-align: right;\"> 1102.5</td><td>-       </td><td>-          </td><td>-    </td><td style=\"text-align: right;\">  1098.55</td></tr>\n",
       "<tr><td style=\"text-align: right;\">     0.01</td><td>60   </td><td>-          </td><td>-       </td><td>-      </td><td style=\"text-align: right;\">    0.3</td><td>C  </td><td style=\"text-align: right;\">    6400</td><td>P  </td><td>1293.60</td><td style=\"text-align: right;\"> 1302.5</td><td>-       </td><td>-          </td><td>-    </td><td style=\"text-align: right;\">  1298.55</td></tr>\n",
       "</tbody>\n",
       "</table>"
      ],
      "text/plain": [
       "<IPython.core.display.HTML object>"
      ]
     },
     "metadata": {},
     "output_type": "display_data"
    }
   ],
   "source": [
    "g.display_page_raw(p)"
   ]
  },
  {
   "cell_type": "code",
   "execution_count": null,
   "metadata": {},
   "outputs": [],
   "source": [
    "169.9-(2*77.30)+19.7"
   ]
  },
  {
   "cell_type": "code",
   "execution_count": null,
   "metadata": {},
   "outputs": [],
   "source": [
    "call[4900].vente"
   ]
  },
  {
   "cell_type": "code",
   "execution_count": null,
   "metadata": {},
   "outputs": [],
   "source": [
    "# test data when interet is fall\n",
    "import numpy as np\n",
    "sT = np.arange(4800,5400,25)\n",
    "o = Option(strike=4900, achat=212.40, vente=219.40, multiplier=10)\n",
    "c = Option(cat='Call', strike=4900, achat=212.40, vente=219.40, multiplier=10)\n",
    "p = Option(cat='Put', strike=4900, achat=9.10, vente=11.60, multiplier=10)\n",
    "print(str(o));print(str(c));print(str(p))"
   ]
  },
  {
   "cell_type": "code",
   "execution_count": null,
   "metadata": {},
   "outputs": [],
   "source": [
    "s2 = Strategy('Strategy : call+2*put long').add(call[4900], 'long', 1).add(call[5300], 'short', 2)\n",
    "g.profit(call[4950], 'long')\n",
    "g.profit_strategy(s2)\n",
    "g.compare(call[5000], 'long', s2, 'long')"
   ]
  },
  {
   "cell_type": "code",
   "execution_count": null,
   "metadata": {},
   "outputs": [],
   "source": [
    "butterfly = (Strategy('Butterfly C5000-2*C5100+C5200')\n",
    "             .add(call[4900], 'long', 1)\n",
    "             .add(call[5000], 'short', 2)\n",
    "             .add(call[5100], 'long', 1))\n",
    "call_strike = 5000\n",
    "g.profit_strategy(butterfly)\n",
    "g.compare(call[call_strike], 'long', butterfly, 'long')\n",
    "print('Cost-Butterfly : {:0.02f}€'.format(butterfly.cost()))\n",
    "print('Cost-Call : {:0.02f}€'.format(call[call_strike].cost('long')))\n",
    "g.display_summary(butterfly)"
   ]
  },
  {
   "cell_type": "code",
   "execution_count": null,
   "metadata": {},
   "outputs": [],
   "source": [
    "ratio_backspreads = (Strategy('Ratio Backspreads')\n",
    "                     .add(call[4900], 'long', 1)\n",
    "                     .add(call[5100], 'short', 3)\n",
    "                    )\n",
    "g.profit_strategy(ratio_backspreads)\n",
    "g.compare(ratio_backspreads, 'long', call[4900], 'long')\n",
    "print('Ratio Backspreads Cost : {:0.02f}€'.format(ratio_backspreads.cost()))\n",
    "print('Call 5000 Cost : {:0.02f}€'.format(call[4900].cost('long')))\n",
    "g.display_summary(ratio_backspreads)"
   ]
  },
  {
   "cell_type": "code",
   "execution_count": null,
   "metadata": {},
   "outputs": [],
   "source": [
    "straddle = (Strategy('Straddle C5100+P5100')\n",
    "             .add(call[4950], 'short', 1)\n",
    "             .add(put[5150], 'short', 1))\n",
    "print('Straddle Cost : {}'.format(straddle.cost()))\n",
    "g.profit_strategy(straddle)"
   ]
  },
  {
   "cell_type": "code",
   "execution_count": null,
   "metadata": {},
   "outputs": [],
   "source": [
    "\n",
    "payoff_max=max(straddle.payoff(g.sT, 'long'))\n",
    "payoff_min=min(straddle.payoff(g.sT, 'long'))\n",
    "{'min': payoff_min, 'max': payoff_max, 'cost': g.profit_strategy(straddle)}"
   ]
  },
  {
   "cell_type": "code",
   "execution_count": null,
   "metadata": {},
   "outputs": [],
   "source": [
    "straddle = (Strategy('Straddle C5100+P5100')\n",
    "             .add(call[4950], 'short', 1)\n",
    "             .add(put[5150], 'short', 1))\n",
    "print('Straddle Cost : {}'.format(straddle.cost()))\n",
    "g.profit_strategy(straddle)\n",
    "c = put[4950]\n",
    "print('Call Cost : {}'.format(c.cost('short')))\n",
    "g.profit(c, 'short')"
   ]
  },
  {
   "cell_type": "code",
   "execution_count": null,
   "metadata": {},
   "outputs": [],
   "source": [
    "for s, c in call.items():\n",
    "    print('{} {} {}'.format(c.strike, c.multiplier, c.vente))"
   ]
  },
  {
   "cell_type": "code",
   "execution_count": null,
   "metadata": {},
   "outputs": [],
   "source": [
    "strat1 = (Strategy('Stratis 5100-..-5300 croissant')\n",
    "             .add(put[5000], 'short', 3)\n",
    "             .add(put[5100], 'short', 2)\n",
    "             .add(put[5200], 'short', 1)\n",
    "        )\n",
    "strat2 = (Strategy('Stratis 5100-..-5300 decroissant')\n",
    "             .add(put[5000], 'short', 1)\n",
    "             .add(put[5100], 'short', 2)\n",
    "             .add(put[5200], 'short', 3)\n",
    "        )\n",
    "print('{} Cost : {}'.format(strat1.label, strat1.cost()))\n",
    "print('{} Cost : {}'.format(strat2.label, strat2.cost()))\n",
    "g.profit_strategy(strat1)\n",
    "g.profit_strategy(strat2)\n",
    "g.compare(strat1, 'long', strat2, 'long')"
   ]
  },
  {
   "cell_type": "code",
   "execution_count": null,
   "metadata": {},
   "outputs": [],
   "source": [
    "g.profit(call[4950], 'long')\n",
    "print('cost: {}'.format(call[4950].cost('long')))\n",
    "g.profit(call[4900], 'long')\n",
    "print('cost: {}'.format(call[4900].cost('long')))\n"
   ]
  },
  {
   "cell_type": "code",
   "execution_count": null,
   "metadata": {},
   "outputs": [],
   "source": [
    "#ratio-spreads\n",
    "rspread2 = RatioSpread(call[4950], call[5150])\n",
    "print('{} Cost : {}'.format(rspread2.label, rspread2.cost()))\n",
    "g.profit_strategy(rspread2)"
   ]
  },
  {
   "cell_type": "code",
   "execution_count": null,
   "metadata": {},
   "outputs": [],
   "source": [
    "#????\n",
    "#box-spreads pour John Hull\n",
    "from math import ceil, floor\n",
    "def BoxSpread(call_long, call_short, put_long, put_short):\n",
    "    \"\"\"A Box Spread is buy and sell put and call of different strike:\n",
    "       - short a put at a strike\n",
    "       - long a put at a strike inferior\n",
    "       This a strategy of hedgin not speculatif\n",
    "    \"\"\"\n",
    "    plong = call_long.achat\n",
    "    pshort = call_short.vente\n",
    "    plong = put_long.achat\n",
    "    pshort = put_short.vente\n",
    "    return (Strategy('Box Spread {}-{}'.format(put_long.strike, put_short.strike))\n",
    "            .add(call_long, 'short', 1)\n",
    "            .add(call_short, 'long', 1)\n",
    "            .add(put_long, 'short', 1)\n",
    "            .add(put_short, 'long', 1)\n",
    "           )"
   ]
  },
  {
   "cell_type": "code",
   "execution_count": null,
   "metadata": {},
   "outputs": [],
   "source": [
    "bspread2 = BoxSpread(call[5000], call[4900], put[5100], put[5200])\n",
    "print('{} Cost : {}'.format(bspread2.label, bspread2.cost()))\n",
    "bspread1 = BoxSpread(call[4950], call[4900], put[5150], put[5200])\n",
    "print('{} Cost : {}'.format(bspread1.label, bspread1.cost()))\n",
    "g.profit_strategy(bspread2)\n",
    "g.profit_strategy(bspread1)\n",
    "g.compare(bspread2, 'long', bspread1, 'long')\n",
    "g.display_summary(bspread2)"
   ]
  },
  {
   "cell_type": "code",
   "execution_count": null,
   "metadata": {},
   "outputs": [],
   "source": [
    "cspread1 = CallSpread(call[4900], call[5000])\n",
    "print('{} Cost : {}'.format(cspread1.label, cspread1.cost()))\n",
    "cspread2 = CallSpread(call[4900], call[5150])\n",
    "print('{} Cost : {}'.format(cspread2.label, cspread2.cost()))\n",
    "g.profit_strategy(cspread1)\n",
    "g.profit_strategy(cspread2)\n",
    "g.compare(cspread1, 'long', cspread2, 'long')"
   ]
  },
  {
   "cell_type": "code",
   "execution_count": null,
   "metadata": {},
   "outputs": [],
   "source": [
    "pspread1 = PutSpread(put[5200], put[5000])\n",
    "print('{} Cost : {}'.format(pspread1.label, pspread1.cost()))\n",
    "g.profit_strategy(pspread1)\n",
    "pspread2 = PutSpread(put[5100], put[5000])\n",
    "print('{} Cost : {}'.format(pspread2.label, pspread2.cost()))\n",
    "g.profit_strategy(pspread2)\n",
    "g.compare(pspread1, 'long', pspread2, 'long')"
   ]
  },
  {
   "cell_type": "code",
   "execution_count": null,
   "metadata": {},
   "outputs": [],
   "source": [
    "ironcondor = IronCondor(put[5050], put[5000], call[5250], call[5300])\n",
    "print('{} Cost : {}'.format(ironcondor.label, ironcondor.cost()))\n",
    "risk = min(ironcondor.payoff(g.sT, 'long'))\n",
    "print('{} Risk : {}'.format(ironcondor.label,risk))\n",
    "g.profit_strategy(ironcondor)\n",
    "g.display_summary(ironcondor)"
   ]
  },
  {
   "cell_type": "code",
   "execution_count": null,
   "metadata": {},
   "outputs": [],
   "source": [
    "help(IronCondor)"
   ]
  },
  {
   "cell_type": "code",
   "execution_count": null,
   "metadata": {},
   "outputs": [],
   "source": []
  }
 ],
 "metadata": {
  "celltoolbar": "Aucun(e)",
  "kernelspec": {
   "display_name": "Python 3",
   "language": "python",
   "name": "python3"
  },
  "language_info": {
   "codemirror_mode": {
    "name": "ipython",
    "version": 3
   },
   "file_extension": ".py",
   "mimetype": "text/x-python",
   "name": "python",
   "nbconvert_exporter": "python",
   "pygments_lexer": "ipython3",
   "version": "3.6.0"
  }
 },
 "nbformat": 4,
 "nbformat_minor": 2
}
