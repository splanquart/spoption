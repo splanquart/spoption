{
 "cells": [
  {
   "cell_type": "code",
   "execution_count": 113,
   "metadata": {},
   "outputs": [],
   "source": [
    "import requests\n",
    "from bs4 import BeautifulSoup\n",
    "class Page:\n",
    "    def __init__(self, site=None, ticker_idx=0, params=None):\n",
    "        self.tickers = ['4PX-DPAR', '2PX-DPAR', '1PX-DPAR', '5PX-DPAR']\n",
    "        # liste des options euronext CAC40 :\n",
    "        # https://derivatives.euronext.com/en/equity-index-derivatives/contract-list?quicktabs_309=4#quicktabs-309\n",
    "        self.site=\"https://derivatives.euronext.com/fr/products/index-options\" if not site else site\n",
    "        self.ticker=self.tickers[ticker_idx]\n",
    "        self.params=\"Class_type=0&Class_symbol=&Class_exchange=&ex=&ps=15&md=11-2018\" if not params else params\n",
    "    def fetch(self):\n",
    "        requete = requests.get(\"{}/{}?{}\".format(site, ticker, params))\n",
    "        page = requete.content\n",
    "        self.soup = BeautifulSoup(page)\n",
    "        self.page_title = self.soup.find(\"h1\", {\"class\": \"title\"}).text\n",
    "        return self.soup\n",
    "    def scrap_elements(self):\n",
    "        div = self.soup.find(\"div\", {\"class\": \"call-put-table\"})\n",
    "        trs = div.find_all(\"tr\")\n",
    "        elmts = {}\n",
    "        for tr in trs[3:-1]:\n",
    "            tds = tr.find_all('td')\n",
    "            c = Option('Call', strike=tds[7].text, achat=tds[4].text, vente=tds[5].text)\n",
    "            p = Option('Put', strike=tds[7].text, achat=tds[9].text, vente=tds[10].text)\n",
    "            if c.achat != '-':\n",
    "                elmts[float(c.strike)]={'call':c, 'put':p}\n",
    "        return elmts\n",
    "p = Page()\n",
    "s = p.fetch()"
   ]
  },
  {
   "cell_type": "code",
   "execution_count": 114,
   "metadata": {},
   "outputs": [
    {
     "data": {
      "text/plain": [
       "'CAC 40 INDEX WEEKLY OPTION (1PX 2PX 4PX 5PX)'"
      ]
     },
     "execution_count": 114,
     "metadata": {},
     "output_type": "execute_result"
    }
   ],
   "source": [
    "p.page_title"
   ]
  },
  {
   "cell_type": "code",
   "execution_count": 103,
   "metadata": {},
   "outputs": [],
   "source": [
    "class Option:\n",
    "    def __init__(self, cat='Call', strike=0, achat=0, vente=0, premium=0, multiplier=1):\n",
    "        self.cat = cat\n",
    "        self.strike = strike\n",
    "        self.achat = achat\n",
    "        self.vente = vente\n",
    "        self.premium = premium\n",
    "        self.multiplier = multiplier\n",
    "    def __repr__(self):\n",
    "        #return '{}({}, {}, {})'.format(self.cat, self.strike, self.achat, self.vente)\n",
    "        return '{}({})'.format(self.cat, self.strike)\n",
    "    def __str__(self):\n",
    "        return '{}({}) long:{}, short:{}'.format(self.cat, self.strike, self.achat, self.vente)\n"
   ]
  },
  {
   "cell_type": "code",
   "execution_count": 92,
   "metadata": {},
   "outputs": [
    {
     "data": {
      "text/plain": [
       "'Call(5200) long:0, short:0'"
      ]
     },
     "execution_count": 92,
     "metadata": {},
     "output_type": "execute_result"
    }
   ],
   "source": [
    "o=Option(cat='Call', strike=5200)\n",
    "'{} bid:{}, ask:{}'.format(o, o.achat, o.vente)\n",
    "str(o)"
   ]
  },
  {
   "cell_type": "code",
   "execution_count": 104,
   "metadata": {},
   "outputs": [
    {
     "data": {
      "text/plain": [
       "{4900.0: {'call': Call(4900.00), 'put': Put(4900.00)},\n",
       " 4950.0: {'call': Call(4950.00), 'put': Put(4950.00)},\n",
       " 5000.0: {'call': Call(5000.00), 'put': Put(5000.00)},\n",
       " 5050.0: {'call': Call(5050.00), 'put': Put(5050.00)},\n",
       " 5075.0: {'call': Call(5075.00), 'put': Put(5075.00)},\n",
       " 5100.0: {'call': Call(5100.00), 'put': Put(5100.00)},\n",
       " 5125.0: {'call': Call(5125.00), 'put': Put(5125.00)},\n",
       " 5150.0: {'call': Call(5150.00), 'put': Put(5150.00)},\n",
       " 5175.0: {'call': Call(5175.00), 'put': Put(5175.00)},\n",
       " 5200.0: {'call': Call(5200.00), 'put': Put(5200.00)},\n",
       " 5250.0: {'call': Call(5250.00), 'put': Put(5250.00)},\n",
       " 5300.0: {'call': Call(5300.00), 'put': Put(5300.00)}}"
      ]
     },
     "execution_count": 104,
     "metadata": {},
     "output_type": "execute_result"
    }
   ],
   "source": [
    "options = p.scrap_elements()\n",
    "options"
   ]
  },
  {
   "cell_type": "code",
   "execution_count": 105,
   "metadata": {},
   "outputs": [
    {
     "data": {
      "text/plain": [
       "'Call(4900.00) long:212.40, short:219.40'"
      ]
     },
     "execution_count": 105,
     "metadata": {},
     "output_type": "execute_result"
    }
   ],
   "source": [
    "str(options[4900]['call'])"
   ]
  },
  {
   "cell_type": "code",
   "execution_count": null,
   "metadata": {},
   "outputs": [],
   "source": []
  }
 ],
 "metadata": {
  "kernelspec": {
   "display_name": "Python 3",
   "language": "python",
   "name": "python3"
  },
  "language_info": {
   "codemirror_mode": {
    "name": "ipython",
    "version": 3
   },
   "file_extension": ".py",
   "mimetype": "text/x-python",
   "name": "python",
   "nbconvert_exporter": "python",
   "pygments_lexer": "ipython3",
   "version": "3.6.0"
  }
 },
 "nbformat": 4,
 "nbformat_minor": 2
}
