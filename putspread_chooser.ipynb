{
 "cells": [
  {
   "cell_type": "code",
   "execution_count": 1,
   "metadata": {},
   "outputs": [],
   "source": [
    "from IPython.display import display, Markdown, Latex\n",
    "\n",
    "from product import Option\n",
    "from strategy import *\n",
    "from euronext import Page, Ticker\n",
    "from graph import Graph\n",
    "\n",
    "g=Graph(4400, 5500, 25)\n",
    "p = Page(ticker=Ticker.CACPXA, params='Class_type=0&Class_symbol=&Class_exchange=&ex=&ps=999&md=12-2018')\n",
    "p.fetch()\n",
    "(call, put) = p.scrap_options(multiplier=10)"
   ]
  },
  {
   "cell_type": "code",
   "execution_count": 2,
   "metadata": {
    "scrolled": false
   },
   "outputs": [
    {
     "data": {
      "text/html": [
       "<table>\n",
       "<thead>\n",
       "<tr><th>Settl.C  </th><th>OIC   </th><th>Day Vol C  </th><th>Last C  </th><th>bid C  </th><th>ask C  </th><th>C  </th><th style=\"text-align: right;\">  strike</th><th>P  </th><th>bid P  </th><th>ask P  </th><th>Last P  </th><th>Day Vol P  </th><th>OIP   </th><th>Settl.P  </th></tr>\n",
       "</thead>\n",
       "<tbody>\n",
       "<tr><td>4110.93  </td><td>1,021 </td><td>-          </td><td>-       </td><td>-      </td><td>-      </td><td>C  </td><td style=\"text-align: right;\">     800</td><td>P  </td><td>-      </td><td>-      </td><td>-       </td><td>-          </td><td>967   </td><td>0.01     </td></tr>\n",
       "<tr><td>3310.65  </td><td>250   </td><td>-          </td><td>-       </td><td>-      </td><td>-      </td><td>C  </td><td style=\"text-align: right;\">    1600</td><td>P  </td><td>-      </td><td>-      </td><td>-       </td><td>-          </td><td>286   </td><td>0.01     </td></tr>\n",
       "<tr><td>2510.40  </td><td>-     </td><td>-          </td><td>-       </td><td>-      </td><td>-      </td><td>C  </td><td style=\"text-align: right;\">    2400</td><td>P  </td><td>-      </td><td>-      </td><td>-       </td><td>-          </td><td>20    </td><td>0.03     </td></tr>\n",
       "<tr><td>2310.36  </td><td>-     </td><td>-          </td><td>-       </td><td>-      </td><td>-      </td><td>C  </td><td style=\"text-align: right;\">    2600</td><td>P  </td><td>-      </td><td>-      </td><td>-       </td><td>-          </td><td>524   </td><td>0.06     </td></tr>\n",
       "<tr><td>1710.60  </td><td>-     </td><td>-          </td><td>-       </td><td>-      </td><td>-      </td><td>C  </td><td style=\"text-align: right;\">    3200</td><td>P  </td><td>-      </td><td>-      </td><td>-       </td><td>-          </td><td>770   </td><td>0.51     </td></tr>\n",
       "<tr><td>1310.92  </td><td>1     </td><td>-          </td><td>-       </td><td>-      </td><td>-      </td><td>C  </td><td style=\"text-align: right;\">    3600</td><td>P  </td><td>-      </td><td>-      </td><td>-       </td><td>-          </td><td>1,637 </td><td>0.97     </td></tr>\n",
       "<tr><td>1111.52  </td><td>-     </td><td>-          </td><td>-       </td><td>-      </td><td>-      </td><td>C  </td><td style=\"text-align: right;\">    3800</td><td>P  </td><td>-      </td><td>-      </td><td>-       </td><td>-          </td><td>3,877 </td><td>1.63     </td></tr>\n",
       "<tr><td>912.37   </td><td>9,061 </td><td>-          </td><td>-       </td><td>-      </td><td>-      </td><td>C  </td><td style=\"text-align: right;\">    4000</td><td>P  </td><td>-      </td><td>-      </td><td>-       </td><td>-          </td><td>11,203</td><td>2.56     </td></tr>\n",
       "<tr><td>715.37   </td><td>-     </td><td>-          </td><td>-       </td><td>-      </td><td>-      </td><td>C  </td><td style=\"text-align: right;\">    4200</td><td>P  </td><td>-      </td><td>32.70  </td><td>-       </td><td>-          </td><td>2,211 </td><td>5.62     </td></tr>\n",
       "<tr><td>522.15   </td><td>4,853 </td><td>-          </td><td>-       </td><td>459.70 </td><td>-      </td><td>C  </td><td style=\"text-align: right;\">    4400</td><td>P  </td><td>-      </td><td>15.90  </td><td>-       </td><td>-          </td><td>8,022 </td><td>12.48    </td></tr>\n",
       "<tr><td>428.61   </td><td>2,000 </td><td>-          </td><td>-       </td><td>-      </td><td>-      </td><td>C  </td><td style=\"text-align: right;\">    4500</td><td>P  </td><td>-      </td><td>50.00  </td><td>-       </td><td>-          </td><td>5,539 </td><td>18.97    </td></tr>\n",
       "<tr><td>338.28   </td><td>2,002 </td><td>-          </td><td>-       </td><td>-      </td><td>-      </td><td>C  </td><td style=\"text-align: right;\">    4600</td><td>P  </td><td>2.90   </td><td>-      </td><td>-       </td><td>-          </td><td>5,767 </td><td>28.67    </td></tr>\n",
       "<tr><td>-        </td><td>-     </td><td>-          </td><td>-       </td><td>-      </td><td>-      </td><td>C  </td><td style=\"text-align: right;\">    4650</td><td>P  </td><td>-      </td><td>-      </td><td>-       </td><td>-          </td><td>-     </td><td>-        </td></tr>\n",
       "<tr><td>253.24   </td><td>4     </td><td>-          </td><td>-       </td><td>-      </td><td>-      </td><td>C  </td><td style=\"text-align: right;\">    4700</td><td>P  </td><td>5.10   </td><td>188.00 </td><td>-       </td><td>-          </td><td>2,329 </td><td>43.66    </td></tr>\n",
       "<tr><td>213.56   </td><td>1     </td><td>-          </td><td>-       </td><td>-      </td><td>-      </td><td>C  </td><td style=\"text-align: right;\">    4750</td><td>P  </td><td>-      </td><td>-      </td><td>-       </td><td>-          </td><td>3,124 </td><td>54.01    </td></tr>\n",
       "<tr><td>176.32   </td><td>2,647 </td><td>-          </td><td>-       </td><td>-      </td><td>-      </td><td>C  </td><td style=\"text-align: right;\">    4800</td><td>P  </td><td>-      </td><td>-      </td><td>-       </td><td>-          </td><td>8,126 </td><td>66.78    </td></tr>\n",
       "<tr><td>-        </td><td>-     </td><td>-          </td><td>-       </td><td>-      </td><td>-      </td><td>C  </td><td style=\"text-align: right;\">    4825</td><td>P  </td><td>-      </td><td>-      </td><td>-       </td><td>-          </td><td>-     </td><td>-        </td></tr>\n",
       "<tr><td>141.86   </td><td>822   </td><td>-          </td><td>-       </td><td>-      </td><td>-      </td><td>C  </td><td style=\"text-align: right;\">    4850</td><td>P  </td><td>-      </td><td>-      </td><td>-       </td><td>-          </td><td>1,434 </td><td>82.33    </td></tr>\n",
       "<tr><td>125.89   </td><td>-     </td><td>-          </td><td>-       </td><td>-      </td><td>-      </td><td>C  </td><td style=\"text-align: right;\">    4875</td><td>P  </td><td>-      </td><td>-      </td><td>-       </td><td>-          </td><td>69    </td><td>91.37    </td></tr>\n",
       "<tr><td>110.62   </td><td>1,790 </td><td>-          </td><td>-       </td><td>-      </td><td>-      </td><td>C  </td><td style=\"text-align: right;\">    4900</td><td>P  </td><td>-      </td><td>250.00 </td><td>-       </td><td>-          </td><td>2,740 </td><td>101.12   </td></tr>\n",
       "<tr><td>96.39    </td><td>187   </td><td>-          </td><td>-       </td><td>-      </td><td>-      </td><td>C  </td><td style=\"text-align: right;\">    4925</td><td>P  </td><td>-      </td><td>-      </td><td>-       </td><td>-          </td><td>100   </td><td>111.89   </td></tr>\n",
       "<tr><td>83.23    </td><td>322   </td><td>-          </td><td>-       </td><td>-      </td><td>-      </td><td>C  </td><td style=\"text-align: right;\">    4950</td><td>P  </td><td>7.90   </td><td>395.00 </td><td>-       </td><td>-          </td><td>949   </td><td>123.75   </td></tr>\n",
       "<tr><td>71.21    </td><td>14    </td><td>-          </td><td>-       </td><td>-      </td><td>-      </td><td>C  </td><td style=\"text-align: right;\">    4975</td><td>P  </td><td>-      </td><td>-      </td><td>-       </td><td>-          </td><td>237   </td><td>136.73   </td></tr>\n",
       "<tr><td>60.50    </td><td>20,203</td><td>-          </td><td>-       </td><td>-      </td><td>-      </td><td>C  </td><td style=\"text-align: right;\">    5000</td><td>P  </td><td>-      </td><td>249.90 </td><td>-       </td><td>-          </td><td>26,261</td><td>151.03   </td></tr>\n",
       "<tr><td>50.71    </td><td>53    </td><td>-          </td><td>-       </td><td>-      </td><td>-      </td><td>C  </td><td style=\"text-align: right;\">    5025</td><td>P  </td><td>-      </td><td>-      </td><td>-       </td><td>-          </td><td>5     </td><td>166.25   </td></tr>\n",
       "<tr><td>41.97    </td><td>1,027 </td><td>-          </td><td>-       </td><td>15.20  </td><td>-      </td><td>C  </td><td style=\"text-align: right;\">    5050</td><td>P  </td><td>6.00   </td><td>460.00 </td><td>-       </td><td>-          </td><td>646   </td><td>182.52   </td></tr>\n",
       "<tr><td>34.37    </td><td>80    </td><td>-          </td><td>-       </td><td>-      </td><td>-      </td><td>C  </td><td style=\"text-align: right;\">    5075</td><td>P  </td><td>-      </td><td>-      </td><td>-       </td><td>-          </td><td>-     </td><td>199.93   </td></tr>\n",
       "<tr><td>27.91    </td><td>7,322 </td><td>-          </td><td>-       </td><td>-      </td><td>-      </td><td>C  </td><td style=\"text-align: right;\">    5100</td><td>P  </td><td>12.20  </td><td>500.00 </td><td>-       </td><td>-          </td><td>8,683 </td><td>218.48   </td></tr>\n",
       "<tr><td>22.35    </td><td>120   </td><td>-          </td><td>-       </td><td>-      </td><td>-      </td><td>C  </td><td style=\"text-align: right;\">    5125</td><td>P  </td><td>-      </td><td>-      </td><td>-       </td><td>-          </td><td>-     </td><td>237.92   </td></tr>\n",
       "<tr><td>18.06    </td><td>1,189 </td><td>-          </td><td>-       </td><td>15.50  </td><td>73.20  </td><td>C  </td><td style=\"text-align: right;\">    5150</td><td>P  </td><td>-      </td><td>-      </td><td>-       </td><td>-          </td><td>1,745 </td><td>258.64   </td></tr>\n",
       "<tr><td>11.06    </td><td>11,432</td><td>-          </td><td>-       </td><td>-      </td><td>33.00  </td><td>C  </td><td style=\"text-align: right;\">    5200</td><td>P  </td><td>-      </td><td>-      </td><td>-       </td><td>-          </td><td>13,401</td><td>301.66   </td></tr>\n",
       "<tr><td>6.61     </td><td>7,418 </td><td>-          </td><td>-       </td><td>4.00   </td><td>26.40  </td><td>C  </td><td style=\"text-align: right;\">    5250</td><td>P  </td><td>-      </td><td>-      </td><td>-       </td><td>-          </td><td>6,150 </td><td>347.23   </td></tr>\n",
       "<tr><td>3.80     </td><td>51,781</td><td>-          </td><td>-       </td><td>-      </td><td>26.50  </td><td>C  </td><td style=\"text-align: right;\">    5300</td><td>P  </td><td>0.20   </td><td>-      </td><td>-       </td><td>-          </td><td>52,707</td><td>394.44   </td></tr>\n",
       "<tr><td>2.88     </td><td>43    </td><td>-          </td><td>-       </td><td>-      </td><td>-      </td><td>C  </td><td style=\"text-align: right;\">    5325</td><td>P  </td><td>-      </td><td>-      </td><td>-       </td><td>-          </td><td>-     </td><td>418.53   </td></tr>\n",
       "<tr><td>2.18     </td><td>4,337 </td><td>-          </td><td>-       </td><td>2.00   </td><td>-      </td><td>C  </td><td style=\"text-align: right;\">    5350</td><td>P  </td><td>-      </td><td>-      </td><td>-       </td><td>-          </td><td>5,544 </td><td>442.84   </td></tr>\n",
       "<tr><td>1.52     </td><td>14,381</td><td>-          </td><td>-       </td><td>-      </td><td>-      </td><td>C  </td><td style=\"text-align: right;\">    5400</td><td>P  </td><td>-      </td><td>-      </td><td>-       </td><td>-          </td><td>15,798</td><td>492.19   </td></tr>\n",
       "<tr><td>0.75     </td><td>16,015</td><td>-          </td><td>-       </td><td>-      </td><td>-      </td><td>C  </td><td style=\"text-align: right;\">    5450</td><td>P  </td><td>-      </td><td>-      </td><td>-       </td><td>-          </td><td>16,035</td><td>541.44   </td></tr>\n",
       "<tr><td>0.46     </td><td>8,172 </td><td>-          </td><td>-       </td><td>-      </td><td>-      </td><td>C  </td><td style=\"text-align: right;\">    5500</td><td>P  </td><td>-      </td><td>-      </td><td>-       </td><td>-          </td><td>6,022 </td><td>591.16   </td></tr>\n",
       "<tr><td>0.28     </td><td>2,690 </td><td>-          </td><td>-       </td><td>-      </td><td>-      </td><td>C  </td><td style=\"text-align: right;\">    5550</td><td>P  </td><td>0.20   </td><td>-      </td><td>-       </td><td>-          </td><td>2,191 </td><td>641.00   </td></tr>\n",
       "<tr><td>0.17     </td><td>4,715 </td><td>-          </td><td>-       </td><td>-      </td><td>1.00   </td><td>C  </td><td style=\"text-align: right;\">    5600</td><td>P  </td><td>-      </td><td>-      </td><td>-       </td><td>-          </td><td>337   </td><td>690.91   </td></tr>\n",
       "<tr><td>0.14     </td><td>2,078 </td><td>-          </td><td>-       </td><td>-      </td><td>-      </td><td>C  </td><td style=\"text-align: right;\">    5625</td><td>P  </td><td>-      </td><td>-      </td><td>-       </td><td>-          </td><td>83    </td><td>715.88   </td></tr>\n",
       "<tr><td>0.11     </td><td>510   </td><td>-          </td><td>-       </td><td>-      </td><td>-      </td><td>C  </td><td style=\"text-align: right;\">    5650</td><td>P  </td><td>-      </td><td>-      </td><td>-       </td><td>-          </td><td>51    </td><td>740.86   </td></tr>\n",
       "<tr><td>0.06     </td><td>1,120 </td><td>-          </td><td>-       </td><td>-      </td><td>-      </td><td>C  </td><td style=\"text-align: right;\">    5700</td><td>P  </td><td>-      </td><td>-      </td><td>-       </td><td>-          </td><td>51    </td><td>790.84   </td></tr>\n",
       "<tr><td>0.04     </td><td>797   </td><td>-          </td><td>-       </td><td>-      </td><td>-      </td><td>C  </td><td style=\"text-align: right;\">    5750</td><td>P  </td><td>-      </td><td>-      </td><td>-       </td><td>-          </td><td>11    </td><td>840.83   </td></tr>\n",
       "<tr><td>0.02     </td><td>4,024 </td><td>-          </td><td>-       </td><td>-      </td><td>-      </td><td>C  </td><td style=\"text-align: right;\">    5800</td><td>P  </td><td>-      </td><td>-      </td><td>-       </td><td>-          </td><td>1,009 </td><td>890.83   </td></tr>\n",
       "<tr><td>0.01     </td><td>859   </td><td>-          </td><td>-       </td><td>-      </td><td>-      </td><td>C  </td><td style=\"text-align: right;\">    5900</td><td>P  </td><td>-      </td><td>-      </td><td>-       </td><td>-          </td><td>90    </td><td>990.85   </td></tr>\n",
       "<tr><td>0.01     </td><td>929   </td><td>-          </td><td>-       </td><td>-      </td><td>-      </td><td>C  </td><td style=\"text-align: right;\">    6000</td><td>P  </td><td>-      </td><td>-      </td><td>-       </td><td>-          </td><td>50    </td><td>1090.88  </td></tr>\n",
       "<tr><td>0.01     </td><td>-     </td><td>-          </td><td>-       </td><td>-      </td><td>-      </td><td>C  </td><td style=\"text-align: right;\">    6100</td><td>P  </td><td>-      </td><td>-      </td><td>-       </td><td>-          </td><td>-     </td><td>1190.91  </td></tr>\n",
       "<tr><td>0.01     </td><td>283   </td><td>-          </td><td>-       </td><td>-      </td><td>-      </td><td>C  </td><td style=\"text-align: right;\">    6200</td><td>P  </td><td>-      </td><td>-      </td><td>-       </td><td>-          </td><td>-     </td><td>1290.95  </td></tr>\n",
       "<tr><td>0.01     </td><td>76    </td><td>-          </td><td>-       </td><td>-      </td><td>-      </td><td>C  </td><td style=\"text-align: right;\">    6400</td><td>P  </td><td>-      </td><td>-      </td><td>-       </td><td>-          </td><td>-     </td><td>1491.02  </td></tr>\n",
       "<tr><td>0.01     </td><td>100   </td><td>-          </td><td>-       </td><td>-      </td><td>-      </td><td>C  </td><td style=\"text-align: right;\">    6800</td><td>P  </td><td>-      </td><td>-      </td><td>-       </td><td>-          </td><td>-     </td><td>1891.16  </td></tr>\n",
       "<tr><td>0.01     </td><td>30    </td><td>-          </td><td>-       </td><td>-      </td><td>-      </td><td>C  </td><td style=\"text-align: right;\">    7200</td><td>P  </td><td>-      </td><td>-      </td><td>-       </td><td>-          </td><td>4     </td><td>2291.30  </td></tr>\n",
       "</tbody>\n",
       "</table>"
      ],
      "text/plain": [
       "<IPython.core.display.HTML object>"
      ]
     },
     "metadata": {},
     "output_type": "display_data"
    }
   ],
   "source": [
    "g.display_page_raw(p)"
   ]
  },
  {
   "cell_type": "code",
   "execution_count": null,
   "metadata": {},
   "outputs": [],
   "source": [
    "help(PutSpread)\n",
    "pspread1 = PutSpread(put[5150], put[5000])\n",
    "print('{} Cost : {}'.format(pspread1.label, pspread1.cost()))\n",
    "g.profit_strategy(pspread1)\n",
    "pspread2 = PutSpread(put[5150], put[5100])\n",
    "print('{} Cost : {}'.format(pspread2.label, pspread2.cost()))\n",
    "g.profit_strategy(pspread2)\n",
    "g.compare(pspread1, 'long', pspread2, 'long')\n",
    "\n"
   ]
  },
  {
   "cell_type": "code",
   "execution_count": null,
   "metadata": {},
   "outputs": [],
   "source": [
    "def explorator(list_put, step=50):\n",
    "    strikes = [o.strike for o in list_put]\n",
    "    by_strike = dict(zip(strikes, list_put))\n",
    "    css = []\n",
    "    for i, strike_a in enumerate(strikes[:-1]):\n",
    "        strike_b = strike_a + step\n",
    "        if (strike_b not in strikes):\n",
    "            continue\n",
    "        a=by_strike[strike_a]\n",
    "        b=by_strike[strike_b]\n",
    "        css.append(PutSpread(b, a))\n",
    "    return css"
   ]
  },
  {
   "cell_type": "code",
   "execution_count": null,
   "metadata": {},
   "outputs": [],
   "source": [
    "css = PutSpread.explorator(put.values(), step=50)\n",
    "g.profit_rainbow(css[:-1], 'long', title='PutSpread Rainbow')"
   ]
  },
  {
   "cell_type": "code",
   "execution_count": 4,
   "metadata": {},
   "outputs": [
    {
     "ename": "ZeroDivisionError",
     "evalue": "division by zero",
     "output_type": "error",
     "traceback": [
      "\u001b[0;31m----------------------------------------------------------------------\u001b[0m",
      "\u001b[0;31mZeroDivisionError\u001b[0m                    Traceback (most recent call last)",
      "\u001b[0;32m<ipython-input-4-ad31dfc23ee5>\u001b[0m in \u001b[0;36m<module>\u001b[0;34m\u001b[0m\n\u001b[1;32m      1\u001b[0m \u001b[0mcss\u001b[0m \u001b[0;34m=\u001b[0m \u001b[0mCallSpread\u001b[0m\u001b[0;34m.\u001b[0m\u001b[0mexplorator\u001b[0m\u001b[0;34m(\u001b[0m\u001b[0mcall\u001b[0m\u001b[0;34m.\u001b[0m\u001b[0mvalues\u001b[0m\u001b[0;34m(\u001b[0m\u001b[0;34m)\u001b[0m\u001b[0;34m,\u001b[0m \u001b[0mstep\u001b[0m\u001b[0;34m=\u001b[0m\u001b[0;36m25\u001b[0m\u001b[0;34m)\u001b[0m\u001b[0;34m\u001b[0m\u001b[0m\n\u001b[0;32m----> 2\u001b[0;31m \u001b[0mg\u001b[0m\u001b[0;34m.\u001b[0m\u001b[0mprofit_rainbow\u001b[0m\u001b[0;34m(\u001b[0m\u001b[0mcss\u001b[0m\u001b[0;34m,\u001b[0m \u001b[0;34m'long'\u001b[0m\u001b[0;34m,\u001b[0m \u001b[0mtitle\u001b[0m\u001b[0;34m=\u001b[0m\u001b[0;34m'CallSpread Rainbow'\u001b[0m\u001b[0;34m)\u001b[0m\u001b[0;34m\u001b[0m\u001b[0m\n\u001b[0m",
      "\u001b[0;32m~/tools/spoption/graph.py\u001b[0m in \u001b[0;36mprofit_rainbow\u001b[0;34m(self, assets, direction, title)\u001b[0m\n\u001b[1;32m     92\u001b[0m         assets_color = [(key, value)\n\u001b[1;32m     93\u001b[0m                       \u001b[0;32mfor\u001b[0m \u001b[0mkey\u001b[0m\u001b[0;34m,\u001b[0m \u001b[0mvalue\u001b[0m\u001b[0;34m\u001b[0m\u001b[0m\n\u001b[0;32m---> 94\u001b[0;31m                       in zip(assets, rainbow_color(len(assets)))]\n\u001b[0m\u001b[1;32m     95\u001b[0m         \u001b[0mfig\u001b[0m\u001b[0;34m,\u001b[0m \u001b[0max\u001b[0m \u001b[0;34m=\u001b[0m \u001b[0mplt\u001b[0m\u001b[0;34m.\u001b[0m\u001b[0msubplots\u001b[0m\u001b[0;34m(\u001b[0m\u001b[0mfigsize\u001b[0m\u001b[0;34m=\u001b[0m\u001b[0;34m(\u001b[0m\u001b[0;36m12\u001b[0m\u001b[0;34m,\u001b[0m \u001b[0;36m10\u001b[0m\u001b[0;34m)\u001b[0m\u001b[0;34m)\u001b[0m\u001b[0;34m\u001b[0m\u001b[0m\n\u001b[1;32m     96\u001b[0m         \u001b[0mplt\u001b[0m\u001b[0;34m.\u001b[0m\u001b[0mstyle\u001b[0m\u001b[0;34m.\u001b[0m\u001b[0muse\u001b[0m\u001b[0;34m(\u001b[0m\u001b[0;34m'dark_background'\u001b[0m\u001b[0;34m)\u001b[0m\u001b[0;34m\u001b[0m\u001b[0m\n",
      "\u001b[0;32m~/tools/spoption/graph.py\u001b[0m in \u001b[0;36mrainbow_color\u001b[0;34m(size)\u001b[0m\n\u001b[1;32m     15\u001b[0m                     for name, color in colors.items())\n\u001b[1;32m     16\u001b[0m     \u001b[0msorted_names\u001b[0m \u001b[0;34m=\u001b[0m \u001b[0;34m[\u001b[0m\u001b[0mname\u001b[0m \u001b[0;32mfor\u001b[0m \u001b[0mhsv\u001b[0m\u001b[0;34m,\u001b[0m \u001b[0mname\u001b[0m \u001b[0;32min\u001b[0m \u001b[0mby_hsv\u001b[0m\u001b[0;34m]\u001b[0m\u001b[0;34m\u001b[0m\u001b[0m\n\u001b[0;32m---> 17\u001b[0;31m     \u001b[0mmodulo\u001b[0m \u001b[0;34m=\u001b[0m \u001b[0mceil\u001b[0m\u001b[0;34m(\u001b[0m\u001b[0mlen\u001b[0m\u001b[0;34m(\u001b[0m\u001b[0msorted_names\u001b[0m\u001b[0;34m)\u001b[0m \u001b[0;34m/\u001b[0m \u001b[0msize\u001b[0m\u001b[0;34m)\u001b[0m\u001b[0;34m\u001b[0m\u001b[0m\n\u001b[0m\u001b[1;32m     18\u001b[0m     \u001b[0;32mreturn\u001b[0m \u001b[0msorted_names\u001b[0m\u001b[0;34m[\u001b[0m\u001b[0;34m:\u001b[0m\u001b[0;34m:\u001b[0m\u001b[0mmodulo\u001b[0m\u001b[0;34m]\u001b[0m\u001b[0;34m\u001b[0m\u001b[0m\n\u001b[1;32m     19\u001b[0m \u001b[0;34m\u001b[0m\u001b[0m\n",
      "\u001b[0;31mZeroDivisionError\u001b[0m: division by zero"
     ]
    }
   ],
   "source": [
    "css = CallSpread.explorator(call.values(), step=25)\n",
    "g.profit_rainbow(css, 'long', title='CallSpread Rainbow')"
   ]
  },
  {
   "cell_type": "code",
   "execution_count": null,
   "metadata": {},
   "outputs": [],
   "source": [
    "g.profit(css[1], 'long')"
   ]
  },
  {
   "cell_type": "code",
   "execution_count": null,
   "metadata": {},
   "outputs": [],
   "source": [
    "g.display_summary(css[1])\n",
    "-3308 + 200 +1307"
   ]
  },
  {
   "cell_type": "code",
   "execution_count": null,
   "metadata": {},
   "outputs": [],
   "source": [
    "o = css[1].options[0]\n",
    "print('{}'.format(o['option'].payoff(g.sT, o['direction'])))\n",
    "g.profit(o['option'], o['direction'])\n",
    "o = css[1].options[1]\n",
    "print('{}'.format(o['option'].payoff(g.sT, o['direction'])))\n",
    "g.profit(o['option'], o['direction'])"
   ]
  },
  {
   "cell_type": "code",
   "execution_count": null,
   "metadata": {},
   "outputs": [],
   "source": [
    "o['option'].payoff(g.sT, o['direction'])"
   ]
  },
  {
   "cell_type": "code",
   "execution_count": 9,
   "metadata": {},
   "outputs": [
    {
     "name": "stdout",
     "output_type": "stream",
     "text": [
      "multiplier: 10\n",
      "multiplier: -10\n",
      "long\n",
      "short\n"
     ]
    }
   ],
   "source": [
    "s_payoff = css[1].payoff(g.sT, 'long')\n",
    "o = css[1].options[0]\n",
    "c1_payoff = o['option'].payoff(g.sT, o['direction'])\n",
    "print(o['direction'])\n",
    "o = css[1].options[1]\n",
    "c2_payoff = o['option'].payoff(g.sT, o['direction'])\n",
    "print(o['direction'])\n"
   ]
  },
  {
   "cell_type": "code",
   "execution_count": 10,
   "metadata": {},
   "outputs": [
    {
     "data": {
      "text/html": [
       "<table>\n",
       "<thead>\n",
       "<tr><th>Category  </th><th style=\"text-align: right;\">  strike</th><th>direction  </th><th style=\"text-align: right;\">  Quantity</th><th style=\"text-align: right;\">  Cost</th></tr>\n",
       "</thead>\n",
       "<tbody>\n",
       "<tr><td>Call      </td><td style=\"text-align: right;\">    5150</td><td>long       </td><td style=\"text-align: right;\">         1</td><td style=\"text-align: right;\">   732</td></tr>\n",
       "<tr><td>Call      </td><td style=\"text-align: right;\">    5250</td><td>short      </td><td style=\"text-align: right;\">         1</td><td style=\"text-align: right;\">   -40</td></tr>\n",
       "</tbody>\n",
       "</table>"
      ],
      "text/plain": [
       "<IPython.core.display.HTML object>"
      ]
     },
     "metadata": {},
     "output_type": "display_data"
    },
    {
     "name": "stdout",
     "output_type": "stream",
     "text": [
      "4400  -732.0 + 40.0 = -692.0\n",
      "4425  -732.0 + 40.0 = -692.0\n",
      "4450  -732.0 + 40.0 = -692.0\n",
      "4475  -732.0 + 40.0 = -692.0\n",
      "4500  -732.0 + 40.0 = -692.0\n",
      "4525  -732.0 + 40.0 = -692.0\n",
      "4550  -732.0 + 40.0 = -692.0\n",
      "4575  -732.0 + 40.0 = -692.0\n",
      "4600  -732.0 + 40.0 = -692.0\n",
      "4625  -732.0 + 40.0 = -692.0\n",
      "4650  -732.0 + 40.0 = -692.0\n",
      "4675  -732.0 + 40.0 = -692.0\n",
      "4700  -732.0 + 40.0 = -692.0\n",
      "4725  -732.0 + 40.0 = -692.0\n",
      "4750  -732.0 + 40.0 = -692.0\n",
      "4775  -732.0 + 40.0 = -692.0\n",
      "4800  -732.0 + 40.0 = -692.0\n",
      "4825  -732.0 + 40.0 = -692.0\n",
      "4850  -732.0 + 40.0 = -692.0\n",
      "4875  -732.0 + 40.0 = -692.0\n",
      "4900  -732.0 + 40.0 = -692.0\n",
      "4925  -732.0 + 40.0 = -692.0\n",
      "4950  -732.0 + 40.0 = -692.0\n",
      "4975  -732.0 + 40.0 = -692.0\n",
      "5000  -732.0 + 40.0 = -692.0\n",
      "5025  -732.0 + 40.0 = -692.0\n",
      "5050  -732.0 + 40.0 = -692.0\n",
      "5075  -732.0 + 40.0 = -692.0\n",
      "5100  -732.0 + 40.0 = -692.0\n",
      "5125  -732.0 + 40.0 = -692.0\n",
      "5150  -732.0 + 40.0 = -692.0\n",
      "5175  -482.0 + 40.0 = -442.0\n",
      "5200  -232.00000000000003 + 40.0 = -192.00000000000003\n",
      "5225  17.99999999999997 + 40.0 = 57.99999999999997\n",
      "5250  268.0 + 40.0 = 308.0\n",
      "5275  518.0 + -210.0 = 308.0\n",
      "5300  768.0 + -460.0 = 308.0\n",
      "5325  1018.0 + -710.0 = 308.0\n",
      "5350  1268.0 + -960.0 = 308.0\n",
      "5375  1518.0 + -1210.0 = 308.0\n",
      "5400  1768.0 + -1460.0 = 308.0\n",
      "5425  2018.0 + -1710.0 = 308.0\n",
      "5450  2268.0 + -1960.0 = 308.0\n",
      "5475  2518.0 + -2210.0 = 308.0\n"
     ]
    }
   ],
   "source": [
    "g.display_summary(css[1])\n",
    "\n",
    "for strike, i, j, k in zip(g.sT, c1_payoff, c2_payoff, s_payoff):\n",
    "    print('{}  {} + {} = {}'.format(strike, i, j, k))"
   ]
  },
  {
   "cell_type": "code",
   "execution_count": 16,
   "metadata": {},
   "outputs": [
    {
     "data": {
      "text/plain": [
       "73.2"
      ]
     },
     "execution_count": 16,
     "metadata": {},
     "output_type": "execute_result"
    }
   ],
   "source": [
    "call[5150].achat"
   ]
  },
  {
   "cell_type": "code",
   "execution_count": 6,
   "metadata": {},
   "outputs": [],
   "source": [
    "css = [None, CallSpread(call[5150], call[5250])]"
   ]
  },
  {
   "cell_type": "code",
   "execution_count": 7,
   "metadata": {},
   "outputs": [
    {
     "data": {
      "text/plain": [
       "[None, <strategy.CallSpread at 0x1184fa710>]"
      ]
     },
     "execution_count": 7,
     "metadata": {},
     "output_type": "execute_result"
    }
   ],
   "source": [
    "css"
   ]
  },
  {
   "cell_type": "code",
   "execution_count": 12,
   "metadata": {},
   "outputs": [
    {
     "data": {
      "text/plain": [
       "array([-732., -732., -732., -732., -732., -732., -732., -732., -732.,\n",
       "       -732., -732., -732., -732., -732., -732., -732., -732., -732.,\n",
       "       -732., -732., -732., -732., -732., -732., -732., -732., -732.,\n",
       "       -732., -732., -732., -732., -482., -232.,   18.,  268.,  518.,\n",
       "        768., 1018., 1268., 1518., 1768., 2018., 2268., 2518.])"
      ]
     },
     "execution_count": 12,
     "metadata": {},
     "output_type": "execute_result"
    }
   ],
   "source": [
    "import numpy as np\n",
    "sT = g.sT\n",
    "strike = 5150\n",
    "premium = 73.2\n",
    "multiplier = 10\n",
    "(np.where(sT > strike, sT - strike, 0) - premium) * multiplier"
   ]
  },
  {
   "cell_type": "code",
   "execution_count": 17,
   "metadata": {},
   "outputs": [
    {
     "data": {
      "text/plain": [
       "array([4400, 4425, 4450, 4475, 4500, 4525, 4550, 4575, 4600, 4625, 4650,\n",
       "       4675, 4700, 4725, 4750, 4775, 4800, 4825, 4850, 4875, 4900, 4925,\n",
       "       4950, 4975, 5000, 5025, 5050, 5075, 5100, 5125, 5150, 5175, 5200,\n",
       "       5225, 5250, 5275, 5300, 5325, 5350, 5375, 5400, 5425, 5450, 5475])"
      ]
     },
     "execution_count": 17,
     "metadata": {},
     "output_type": "execute_result"
    }
   ],
   "source": [
    "sT\n"
   ]
  },
  {
   "cell_type": "code",
   "execution_count": 24,
   "metadata": {},
   "outputs": [
    {
     "data": {
      "text/plain": [
       "array([  0,   0,   0,   0,   0,   0,   0,   0,   0,   0,   0,   0,   0,\n",
       "         0,   0,   0,   0,   0,   0,   0,   0,   0,   0,   0,   0,   0,\n",
       "         0,   0,   0,   0,   0,  25,  50,  75, 100, 125, 150, 175, 200,\n",
       "       225, 250, 275, 300, 325])"
      ]
     },
     "execution_count": 24,
     "metadata": {},
     "output_type": "execute_result"
    }
   ],
   "source": [
    "np.where(sT > strike, sT - strike, 0)"
   ]
  },
  {
   "cell_type": "code",
   "execution_count": 23,
   "metadata": {},
   "outputs": [
    {
     "data": {
      "text/plain": [
       "array([-73.2, -73.2, -73.2, -73.2, -73.2, -73.2, -73.2, -73.2, -73.2,\n",
       "       -73.2, -73.2, -73.2, -73.2, -73.2, -73.2, -73.2, -73.2, -73.2,\n",
       "       -73.2, -73.2, -73.2, -73.2, -73.2, -73.2, -73.2, -73.2, -73.2,\n",
       "       -73.2, -73.2, -73.2, -73.2, -48.2, -23.2,   1.8,  26.8,  51.8,\n",
       "        76.8, 101.8, 126.8, 151.8, 176.8, 201.8, 226.8, 251.8])"
      ]
     },
     "execution_count": 23,
     "metadata": {},
     "output_type": "execute_result"
    }
   ],
   "source": [
    "np.where(sT > strike, sT - strike, 0) - premium"
   ]
  },
  {
   "cell_type": "code",
   "execution_count": 26,
   "metadata": {},
   "outputs": [],
   "source": [
    "arr = \\\n",
    "[sT,\n",
    " np.where(sT > strike, sT - strike, 0)\n",
    " (np.where(sT > strike, sT - strike, 0) - premium),\n",
    " (np.where(sT > strike, sT - strike, 0) - premium) * multiplier]"
   ]
  },
  {
   "cell_type": "code",
   "execution_count": 27,
   "metadata": {},
   "outputs": [
    {
     "name": "stdout",
     "output_type": "stream",
     "text": [
      "4400 0 -73.2 -732.0\n",
      "4425 0 -73.2 -732.0\n",
      "4450 0 -73.2 -732.0\n",
      "4475 0 -73.2 -732.0\n",
      "4500 0 -73.2 -732.0\n",
      "4525 0 -73.2 -732.0\n",
      "4550 0 -73.2 -732.0\n",
      "4575 0 -73.2 -732.0\n",
      "4600 0 -73.2 -732.0\n",
      "4625 0 -73.2 -732.0\n",
      "4650 0 -73.2 -732.0\n",
      "4675 0 -73.2 -732.0\n",
      "4700 0 -73.2 -732.0\n",
      "4725 0 -73.2 -732.0\n",
      "4750 0 -73.2 -732.0\n",
      "4775 0 -73.2 -732.0\n",
      "4800 0 -73.2 -732.0\n",
      "4825 0 -73.2 -732.0\n",
      "4850 0 -73.2 -732.0\n",
      "4875 0 -73.2 -732.0\n",
      "4900 0 -73.2 -732.0\n",
      "4925 0 -73.2 -732.0\n",
      "4950 0 -73.2 -732.0\n",
      "4975 0 -73.2 -732.0\n",
      "5000 0 -73.2 -732.0\n",
      "5025 0 -73.2 -732.0\n",
      "5050 0 -73.2 -732.0\n",
      "5075 0 -73.2 -732.0\n",
      "5100 0 -73.2 -732.0\n",
      "5125 0 -73.2 -732.0\n",
      "5150 0 -73.2 -732.0\n",
      "5175 25 -48.2 -482.0\n",
      "5200 50 -23.200000000000003 -232.00000000000003\n",
      "5225 75 1.7999999999999972 17.99999999999997\n",
      "5250 100 26.799999999999997 268.0\n",
      "5275 125 51.8 518.0\n",
      "5300 150 76.8 768.0\n",
      "5325 175 101.8 1018.0\n",
      "5350 200 126.8 1268.0\n",
      "5375 225 151.8 1518.0\n",
      "5400 250 176.8 1768.0\n",
      "5425 275 201.8 2018.0\n",
      "5450 300 226.8 2268.0\n",
      "5475 325 251.8 2518.0\n"
     ]
    }
   ],
   "source": [
    "for i, s in enumerate(arr[0]):\n",
    "    print('{} {} {} {}'.format(s, arr[1][i], arr[2][i], arr[3][i]))"
   ]
  },
  {
   "cell_type": "code",
   "execution_count": 28,
   "metadata": {},
   "outputs": [
    {
     "name": "stdout",
     "output_type": "stream",
     "text": [
      "multiplier: 10\n"
     ]
    },
    {
     "data": {
      "text/plain": [
       "array([-732., -732., -732., -732., -732., -732., -732., -732., -732.,\n",
       "       -732., -732., -732., -732., -732., -732., -732., -732., -732.,\n",
       "       -732., -732., -732., -732., -732., -732., -732., -732., -732.,\n",
       "       -732., -732., -732., -732., -482., -232.,   18.,  268.,  518.,\n",
       "        768., 1018., 1268., 1518., 1768., 2018., 2268., 2518.])"
      ]
     },
     "execution_count": 28,
     "metadata": {},
     "output_type": "execute_result"
    }
   ],
   "source": [
    "call[5150].payoff(sT, 'long')"
   ]
  },
  {
   "cell_type": "code",
   "execution_count": null,
   "metadata": {},
   "outputs": [],
   "source": []
  }
 ],
 "metadata": {
  "kernelspec": {
   "display_name": "Python 3",
   "language": "python",
   "name": "python3"
  },
  "language_info": {
   "codemirror_mode": {
    "name": "ipython",
    "version": 3
   },
   "file_extension": ".py",
   "mimetype": "text/x-python",
   "name": "python",
   "nbconvert_exporter": "python",
   "pygments_lexer": "ipython3",
   "version": "3.6.0"
  }
 },
 "nbformat": 4,
 "nbformat_minor": 2
}
